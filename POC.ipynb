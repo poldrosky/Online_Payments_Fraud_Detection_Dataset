{
 "cells": [
  {
   "cell_type": "code",
   "execution_count": null,
   "id": "5804c654-b4d8-4f2c-afac-d2286d14e478",
   "metadata": {},
   "outputs": [],
   "source": []
  },
  {
   "cell_type": "code",
   "execution_count": 48,
   "id": "5272d3f3-40f3-4cf4-afca-55c9cec03627",
   "metadata": {},
   "outputs": [],
   "source": [
    "from pycaret.classification import *\n",
    "from pycaret.datasets import get_data\n",
    "from sklearn import metrics\n",
    "from sklearn.model_selection import train_test_split\n",
    "from utils import cost_function_amount\n",
    "\n",
    "import pandas as pd\n",
    "import numpy as np\n",
    "import mlflow\n",
    "import seaborn as sns\n",
    "import xgboost"
   ]
  },
  {
   "cell_type": "code",
   "execution_count": 2,
   "id": "82741af8-3ba8-4da3-8879-4583069b6c89",
   "metadata": {},
   "outputs": [],
   "source": [
    "dataset = pd.read_csv('PS_20174392719_1491204439457_log.csv')"
   ]
  },
  {
   "cell_type": "code",
   "execution_count": 3,
   "id": "6fe145ca-f103-4d7d-81ad-a8e580c215de",
   "metadata": {},
   "outputs": [
    {
     "data": {
      "text/html": [
       "<div>\n",
       "<style scoped>\n",
       "    .dataframe tbody tr th:only-of-type {\n",
       "        vertical-align: middle;\n",
       "    }\n",
       "\n",
       "    .dataframe tbody tr th {\n",
       "        vertical-align: top;\n",
       "    }\n",
       "\n",
       "    .dataframe thead th {\n",
       "        text-align: right;\n",
       "    }\n",
       "</style>\n",
       "<table border=\"1\" class=\"dataframe\">\n",
       "  <thead>\n",
       "    <tr style=\"text-align: right;\">\n",
       "      <th></th>\n",
       "      <th>step</th>\n",
       "      <th>type</th>\n",
       "      <th>amount</th>\n",
       "      <th>nameOrig</th>\n",
       "      <th>oldbalanceOrg</th>\n",
       "      <th>newbalanceOrig</th>\n",
       "      <th>nameDest</th>\n",
       "      <th>oldbalanceDest</th>\n",
       "      <th>newbalanceDest</th>\n",
       "      <th>isFraud</th>\n",
       "      <th>isFlaggedFraud</th>\n",
       "    </tr>\n",
       "  </thead>\n",
       "  <tbody>\n",
       "    <tr>\n",
       "      <th>0</th>\n",
       "      <td>1</td>\n",
       "      <td>PAYMENT</td>\n",
       "      <td>9839.64</td>\n",
       "      <td>C1231006815</td>\n",
       "      <td>170136.0</td>\n",
       "      <td>160296.36</td>\n",
       "      <td>M1979787155</td>\n",
       "      <td>0.0</td>\n",
       "      <td>0.0</td>\n",
       "      <td>0</td>\n",
       "      <td>0</td>\n",
       "    </tr>\n",
       "    <tr>\n",
       "      <th>1</th>\n",
       "      <td>1</td>\n",
       "      <td>PAYMENT</td>\n",
       "      <td>1864.28</td>\n",
       "      <td>C1666544295</td>\n",
       "      <td>21249.0</td>\n",
       "      <td>19384.72</td>\n",
       "      <td>M2044282225</td>\n",
       "      <td>0.0</td>\n",
       "      <td>0.0</td>\n",
       "      <td>0</td>\n",
       "      <td>0</td>\n",
       "    </tr>\n",
       "    <tr>\n",
       "      <th>2</th>\n",
       "      <td>1</td>\n",
       "      <td>TRANSFER</td>\n",
       "      <td>181.00</td>\n",
       "      <td>C1305486145</td>\n",
       "      <td>181.0</td>\n",
       "      <td>0.00</td>\n",
       "      <td>C553264065</td>\n",
       "      <td>0.0</td>\n",
       "      <td>0.0</td>\n",
       "      <td>1</td>\n",
       "      <td>0</td>\n",
       "    </tr>\n",
       "    <tr>\n",
       "      <th>3</th>\n",
       "      <td>1</td>\n",
       "      <td>CASH_OUT</td>\n",
       "      <td>181.00</td>\n",
       "      <td>C840083671</td>\n",
       "      <td>181.0</td>\n",
       "      <td>0.00</td>\n",
       "      <td>C38997010</td>\n",
       "      <td>21182.0</td>\n",
       "      <td>0.0</td>\n",
       "      <td>1</td>\n",
       "      <td>0</td>\n",
       "    </tr>\n",
       "    <tr>\n",
       "      <th>4</th>\n",
       "      <td>1</td>\n",
       "      <td>PAYMENT</td>\n",
       "      <td>11668.14</td>\n",
       "      <td>C2048537720</td>\n",
       "      <td>41554.0</td>\n",
       "      <td>29885.86</td>\n",
       "      <td>M1230701703</td>\n",
       "      <td>0.0</td>\n",
       "      <td>0.0</td>\n",
       "      <td>0</td>\n",
       "      <td>0</td>\n",
       "    </tr>\n",
       "  </tbody>\n",
       "</table>\n",
       "</div>"
      ],
      "text/plain": [
       "   step      type    amount     nameOrig  oldbalanceOrg  newbalanceOrig  \\\n",
       "0     1   PAYMENT   9839.64  C1231006815       170136.0       160296.36   \n",
       "1     1   PAYMENT   1864.28  C1666544295        21249.0        19384.72   \n",
       "2     1  TRANSFER    181.00  C1305486145          181.0            0.00   \n",
       "3     1  CASH_OUT    181.00   C840083671          181.0            0.00   \n",
       "4     1   PAYMENT  11668.14  C2048537720        41554.0        29885.86   \n",
       "\n",
       "      nameDest  oldbalanceDest  newbalanceDest  isFraud  isFlaggedFraud  \n",
       "0  M1979787155             0.0             0.0        0               0  \n",
       "1  M2044282225             0.0             0.0        0               0  \n",
       "2   C553264065             0.0             0.0        1               0  \n",
       "3    C38997010         21182.0             0.0        1               0  \n",
       "4  M1230701703             0.0             0.0        0               0  "
      ]
     },
     "execution_count": 3,
     "metadata": {},
     "output_type": "execute_result"
    }
   ],
   "source": [
    "dataset.head()"
   ]
  },
  {
   "cell_type": "code",
   "execution_count": 4,
   "id": "98986611-8ea4-47da-9bd8-fd08588a90e5",
   "metadata": {},
   "outputs": [
    {
     "data": {
      "text/plain": [
       "(6362620, 11)"
      ]
     },
     "execution_count": 4,
     "metadata": {},
     "output_type": "execute_result"
    }
   ],
   "source": [
    "dataset.shape"
   ]
  },
  {
   "cell_type": "code",
   "execution_count": 5,
   "id": "12f0e69f-0dea-488d-afe8-96e114db1670",
   "metadata": {},
   "outputs": [
    {
     "data": {
      "text/plain": [
       "CASH_OUT    2237500\n",
       "PAYMENT     2151495\n",
       "CASH_IN     1399284\n",
       "TRANSFER     532909\n",
       "DEBIT         41432\n",
       "Name: type, dtype: int64"
      ]
     },
     "execution_count": 5,
     "metadata": {},
     "output_type": "execute_result"
    }
   ],
   "source": [
    "dataset['type'].value_counts()"
   ]
  },
  {
   "cell_type": "code",
   "execution_count": 6,
   "id": "01930e8f-9354-4c72-8b61-6b76435562c2",
   "metadata": {},
   "outputs": [
    {
     "data": {
      "text/plain": [
       "<AxesSubplot:>"
      ]
     },
     "execution_count": 6,
     "metadata": {},
     "output_type": "execute_result"
    },
    {
     "data": {
      "image/png": "[encoded data removed]",
      "text/plain": [
       "<Figure size 432x288 with 1 Axes>"
      ]
     },
     "metadata": {
      "needs_background": "light"
     },
     "output_type": "display_data"
    }
   ],
   "source": [
    "dataset['step'].hist()"
   ]
  },
  {
   "cell_type": "code",
   "execution_count": 7,
   "id": "6355abbf-358c-4659-9b6a-5c5fa1966e44",
   "metadata": {},
   "outputs": [
    {
     "data": {
      "text/plain": [
       "C    6362620\n",
       "Name: nameOrig, dtype: int64"
      ]
     },
     "execution_count": 7,
     "metadata": {},
     "output_type": "execute_result"
    }
   ],
   "source": [
    "dataset['nameOrig'].map(lambda x: x[0]).value_counts()"
   ]
  },
  {
   "cell_type": "code",
   "execution_count": 8,
   "id": "0f367367-10fe-43eb-bae1-30cad04932af",
   "metadata": {},
   "outputs": [
    {
     "data": {
      "text/plain": [
       "C    4211125\n",
       "M    2151495\n",
       "Name: nameDest, dtype: int64"
      ]
     },
     "execution_count": 8,
     "metadata": {},
     "output_type": "execute_result"
    }
   ],
   "source": [
    "dataset['nameDest'].map(lambda x: x[0]).value_counts()"
   ]
  },
  {
   "cell_type": "code",
   "execution_count": 9,
   "id": "32d15010-4748-4318-9e93-cdad4df67075",
   "metadata": {},
   "outputs": [],
   "source": [
    "dataset['nameDest_know'] = dataset['nameDest'].map(lambda x: 1 if x[0] == 'C' else 0) "
   ]
  },
  {
   "cell_type": "code",
   "execution_count": 10,
   "id": "f5e8bca9-e836-4434-80d5-c84f508c85a8",
   "metadata": {},
   "outputs": [
    {
     "data": {
      "text/plain": [
       "CASH_OUT    2237500\n",
       "PAYMENT     2151495\n",
       "CASH_IN     1399284\n",
       "TRANSFER     532909\n",
       "DEBIT         41432\n",
       "Name: type, dtype: int64"
      ]
     },
     "execution_count": 10,
     "metadata": {},
     "output_type": "execute_result"
    }
   ],
   "source": [
    "dataset.type.value_counts()"
   ]
  },
  {
   "cell_type": "code",
   "execution_count": 11,
   "id": "614e359b-b7dd-41a8-88a3-876a6e2f0e8d",
   "metadata": {},
   "outputs": [
    {
     "data": {
      "text/plain": [
       "<AxesSubplot:>"
      ]
     },
     "execution_count": 11,
     "metadata": {},
     "output_type": "execute_result"
    },
    {
     "data": {
      "image/png": "[encoded data removed]",
      "text/plain": [
       "<Figure size 432x288 with 2 Axes>"
      ]
     },
     "metadata": {
      "needs_background": "light"
     },
     "output_type": "display_data"
    }
   ],
   "source": [
    "sns.heatmap(dataset[['oldbalanceOrg', 'newbalanceOrig', 'oldbalanceDest', 'newbalanceDest']].corr(), annot=True, cmap='Reds')"
   ]
  },
  {
   "cell_type": "code",
   "execution_count": 12,
   "id": "26d09f34-e38c-42b6-ab35-7b293aabee0d",
   "metadata": {},
   "outputs": [],
   "source": [
    "x_columns = [\n",
    "    col for col in dataset.columns if col not in [\n",
    "        'nameOrig', 'nameDest', 'isFlaggedFraud', 'oldbalanceOrg', 'oldbalanceDest']]"
   ]
  },
  {
   "cell_type": "code",
   "execution_count": 13,
   "id": "c78fdc56-1060-4004-aa2a-ba90fd0d5c6a",
   "metadata": {},
   "outputs": [
    {
     "data": {
      "text/plain": [
       "['step',\n",
       " 'type',\n",
       " 'amount',\n",
       " 'newbalanceOrig',\n",
       " 'newbalanceDest',\n",
       " 'isFraud',\n",
       " 'nameDest_know']"
      ]
     },
     "execution_count": 13,
     "metadata": {},
     "output_type": "execute_result"
    }
   ],
   "source": [
    "x_columns"
   ]
  },
  {
   "cell_type": "code",
   "execution_count": 14,
   "id": "aa3b9db2-8409-437f-a432-f92ec4be2d6b",
   "metadata": {},
   "outputs": [],
   "source": [
    "data = dataset[x_columns].copy()"
   ]
  },
  {
   "cell_type": "code",
   "execution_count": 15,
   "id": "66317522-e95e-4ed2-8cf6-7fa0c2820b7e",
   "metadata": {},
   "outputs": [
    {
     "data": {
      "text/html": [
       "<div>\n",
       "<style scoped>\n",
       "    .dataframe tbody tr th:only-of-type {\n",
       "        vertical-align: middle;\n",
       "    }\n",
       "\n",
       "    .dataframe tbody tr th {\n",
       "        vertical-align: top;\n",
       "    }\n",
       "\n",
       "    .dataframe thead th {\n",
       "        text-align: right;\n",
       "    }\n",
       "</style>\n",
       "<table border=\"1\" class=\"dataframe\">\n",
       "  <thead>\n",
       "    <tr style=\"text-align: right;\">\n",
       "      <th></th>\n",
       "      <th>step</th>\n",
       "      <th>type</th>\n",
       "      <th>amount</th>\n",
       "      <th>newbalanceOrig</th>\n",
       "      <th>newbalanceDest</th>\n",
       "      <th>isFraud</th>\n",
       "      <th>nameDest_know</th>\n",
       "    </tr>\n",
       "  </thead>\n",
       "  <tbody>\n",
       "    <tr>\n",
       "      <th>0</th>\n",
       "      <td>1</td>\n",
       "      <td>PAYMENT</td>\n",
       "      <td>9839.64</td>\n",
       "      <td>160296.36</td>\n",
       "      <td>0.0</td>\n",
       "      <td>0</td>\n",
       "      <td>0</td>\n",
       "    </tr>\n",
       "    <tr>\n",
       "      <th>1</th>\n",
       "      <td>1</td>\n",
       "      <td>PAYMENT</td>\n",
       "      <td>1864.28</td>\n",
       "      <td>19384.72</td>\n",
       "      <td>0.0</td>\n",
       "      <td>0</td>\n",
       "      <td>0</td>\n",
       "    </tr>\n",
       "    <tr>\n",
       "      <th>2</th>\n",
       "      <td>1</td>\n",
       "      <td>TRANSFER</td>\n",
       "      <td>181.00</td>\n",
       "      <td>0.00</td>\n",
       "      <td>0.0</td>\n",
       "      <td>1</td>\n",
       "      <td>1</td>\n",
       "    </tr>\n",
       "    <tr>\n",
       "      <th>3</th>\n",
       "      <td>1</td>\n",
       "      <td>CASH_OUT</td>\n",
       "      <td>181.00</td>\n",
       "      <td>0.00</td>\n",
       "      <td>0.0</td>\n",
       "      <td>1</td>\n",
       "      <td>1</td>\n",
       "    </tr>\n",
       "    <tr>\n",
       "      <th>4</th>\n",
       "      <td>1</td>\n",
       "      <td>PAYMENT</td>\n",
       "      <td>11668.14</td>\n",
       "      <td>29885.86</td>\n",
       "      <td>0.0</td>\n",
       "      <td>0</td>\n",
       "      <td>0</td>\n",
       "    </tr>\n",
       "  </tbody>\n",
       "</table>\n",
       "</div>"
      ],
      "text/plain": [
       "   step      type    amount  newbalanceOrig  newbalanceDest  isFraud  \\\n",
       "0     1   PAYMENT   9839.64       160296.36             0.0        0   \n",
       "1     1   PAYMENT   1864.28        19384.72             0.0        0   \n",
       "2     1  TRANSFER    181.00            0.00             0.0        1   \n",
       "3     1  CASH_OUT    181.00            0.00             0.0        1   \n",
       "4     1   PAYMENT  11668.14        29885.86             0.0        0   \n",
       "\n",
       "   nameDest_know  \n",
       "0              0  \n",
       "1              0  \n",
       "2              1  \n",
       "3              1  \n",
       "4              0  "
      ]
     },
     "execution_count": 15,
     "metadata": {},
     "output_type": "execute_result"
    }
   ],
   "source": [
    "data.head()"
   ]
  },
  {
   "cell_type": "code",
   "execution_count": null,
   "id": "1fbc1cba-0155-42bc-b473-4baf80f94dfe",
   "metadata": {},
   "outputs": [],
   "source": []
  },
  {
   "cell_type": "code",
   "execution_count": 16,
   "id": "afd98649-b1de-4423-990d-d0edfc33dd9c",
   "metadata": {},
   "outputs": [],
   "source": [
    "X_train, X_test, y_train, y_test = train_test_split(data[x_columns], data['isFraud'],\n",
    "                                                    stratify=data['isFraud'], \n",
    "                                                    test_size=0.20, random_state=42)"
   ]
  },
  {
   "cell_type": "code",
   "execution_count": 17,
   "id": "57dae8d4-e4bd-4ac1-8ee2-a9aa2eaa8c67",
   "metadata": {},
   "outputs": [],
   "source": [
    "X_train['isFraud'] = y_train\n",
    "X_test['isFraud'] = y_test"
   ]
  },
  {
   "cell_type": "code",
   "execution_count": 18,
   "id": "d9ab7a96-8982-4647-85d3-4dc6a65f1883",
   "metadata": {},
   "outputs": [
    {
     "data": {
      "text/plain": [
       "0    5083526\n",
       "1       6570\n",
       "Name: isFraud, dtype: int64"
      ]
     },
     "execution_count": 18,
     "metadata": {},
     "output_type": "execute_result"
    }
   ],
   "source": [
    "X_train.isFraud.value_counts()"
   ]
  },
  {
   "cell_type": "code",
   "execution_count": 19,
   "id": "6049449f-50e8-415c-ae3d-8ba41d6b8bb0",
   "metadata": {},
   "outputs": [
    {
     "data": {
      "text/plain": [
       "0.0012924100319345274"
      ]
     },
     "execution_count": 19,
     "metadata": {},
     "output_type": "execute_result"
    }
   ],
   "source": [
    "X_train.isFraud.value_counts() [1] / X_train.isFraud.value_counts() [0]"
   ]
  },
  {
   "cell_type": "code",
   "execution_count": 20,
   "id": "799542c3-81fc-4060-ac2a-4fb05f9d8192",
   "metadata": {},
   "outputs": [
    {
     "data": {
      "text/plain": [
       "0    1270881\n",
       "1       1643\n",
       "Name: isFraud, dtype: int64"
      ]
     },
     "execution_count": 20,
     "metadata": {},
     "output_type": "execute_result"
    }
   ],
   "source": [
    "X_test.isFraud.value_counts()"
   ]
  },
  {
   "cell_type": "code",
   "execution_count": 21,
   "id": "13f3a28d-aebc-417d-871d-b7cc79460f9f",
   "metadata": {},
   "outputs": [],
   "source": [
    "X_train_sample = pd.concat([\n",
    "    X_train[X_train.isFraud == 1],\n",
    "    X_train[X_train.isFraud == 0].sample(n=1000000, random_state=42)\n",
    "])"
   ]
  },
  {
   "cell_type": "code",
   "execution_count": 22,
   "id": "3a390538-ebe6-4865-a40d-a910dfd1e72d",
   "metadata": {},
   "outputs": [
    {
     "data": {
      "text/plain": [
       "0    1000000\n",
       "1       6570\n",
       "Name: isFraud, dtype: int64"
      ]
     },
     "execution_count": 22,
     "metadata": {},
     "output_type": "execute_result"
    }
   ],
   "source": [
    "X_train_sample.isFraud.value_counts() "
   ]
  },
  {
   "cell_type": "code",
   "execution_count": 23,
   "id": "08b043c9-c7c1-47fe-a9db-3da371f880e4",
   "metadata": {},
   "outputs": [
    {
     "data": {
      "text/plain": [
       "0.00657"
      ]
     },
     "execution_count": 23,
     "metadata": {},
     "output_type": "execute_result"
    }
   ],
   "source": [
    "X_train_sample.isFraud.value_counts() [1] / X_train_sample.isFraud.value_counts() [0]"
   ]
  },
  {
   "cell_type": "code",
   "execution_count": 24,
   "id": "1701920c-0dfc-4825-bd82-5b80ea119054",
   "metadata": {},
   "outputs": [
    {
     "data": {
      "text/html": [
       "<style  type=\"text/css\" >\n",
       "#T_55cf2_row19_col1,#T_55cf2_row44_col1{\n",
       "            background-color:  lightgreen;\n",
       "        }</style><table id=\"T_55cf2_\" ><thead>    <tr>        <th class=\"blank level0\" ></th>        <th class=\"col_heading level0 col0\" >Description</th>        <th class=\"col_heading level0 col1\" >Value</th>    </tr></thead><tbody>\n",
       "                <tr>\n",
       "                        <th id=\"T_55cf2_level0_row0\" class=\"row_heading level0 row0\" >0</th>\n",
       "                        <td id=\"T_55cf2_row0_col0\" class=\"data row0 col0\" >session_id</td>\n",
       "                        <td id=\"T_55cf2_row0_col1\" class=\"data row0 col1\" >7363</td>\n",
       "            </tr>\n",
       "            <tr>\n",
       "                        <th id=\"T_55cf2_level0_row1\" class=\"row_heading level0 row1\" >1</th>\n",
       "                        <td id=\"T_55cf2_row1_col0\" class=\"data row1 col0\" >Target</td>\n",
       "                        <td id=\"T_55cf2_row1_col1\" class=\"data row1 col1\" >isFraud</td>\n",
       "            </tr>\n",
       "            <tr>\n",
       "                        <th id=\"T_55cf2_level0_row2\" class=\"row_heading level0 row2\" >2</th>\n",
       "                        <td id=\"T_55cf2_row2_col0\" class=\"data row2 col0\" >Target Type</td>\n",
       "                        <td id=\"T_55cf2_row2_col1\" class=\"data row2 col1\" >Binary</td>\n",
       "            </tr>\n",
       "            <tr>\n",
       "                        <th id=\"T_55cf2_level0_row3\" class=\"row_heading level0 row3\" >3</th>\n",
       "                        <td id=\"T_55cf2_row3_col0\" class=\"data row3 col0\" >Label Encoded</td>\n",
       "                        <td id=\"T_55cf2_row3_col1\" class=\"data row3 col1\" >None</td>\n",
       "            </tr>\n",
       "            <tr>\n",
       "                        <th id=\"T_55cf2_level0_row4\" class=\"row_heading level0 row4\" >4</th>\n",
       "                        <td id=\"T_55cf2_row4_col0\" class=\"data row4 col0\" >Original Data</td>\n",
       "                        <td id=\"T_55cf2_row4_col1\" class=\"data row4 col1\" >(1006570, 7)</td>\n",
       "            </tr>\n",
       "            <tr>\n",
       "                        <th id=\"T_55cf2_level0_row5\" class=\"row_heading level0 row5\" >5</th>\n",
       "                        <td id=\"T_55cf2_row5_col0\" class=\"data row5 col0\" >Missing Values</td>\n",
       "                        <td id=\"T_55cf2_row5_col1\" class=\"data row5 col1\" >False</td>\n",
       "            </tr>\n",
       "            <tr>\n",
       "                        <th id=\"T_55cf2_level0_row6\" class=\"row_heading level0 row6\" >6</th>\n",
       "                        <td id=\"T_55cf2_row6_col0\" class=\"data row6 col0\" >Numeric Features</td>\n",
       "                        <td id=\"T_55cf2_row6_col1\" class=\"data row6 col1\" >5</td>\n",
       "            </tr>\n",
       "            <tr>\n",
       "                        <th id=\"T_55cf2_level0_row7\" class=\"row_heading level0 row7\" >7</th>\n",
       "                        <td id=\"T_55cf2_row7_col0\" class=\"data row7 col0\" >Categorical Features</td>\n",
       "                        <td id=\"T_55cf2_row7_col1\" class=\"data row7 col1\" >1</td>\n",
       "            </tr>\n",
       "            <tr>\n",
       "                        <th id=\"T_55cf2_level0_row8\" class=\"row_heading level0 row8\" >8</th>\n",
       "                        <td id=\"T_55cf2_row8_col0\" class=\"data row8 col0\" >Ordinal Features</td>\n",
       "                        <td id=\"T_55cf2_row8_col1\" class=\"data row8 col1\" >False</td>\n",
       "            </tr>\n",
       "            <tr>\n",
       "                        <th id=\"T_55cf2_level0_row9\" class=\"row_heading level0 row9\" >9</th>\n",
       "                        <td id=\"T_55cf2_row9_col0\" class=\"data row9 col0\" >High Cardinality Features</td>\n",
       "                        <td id=\"T_55cf2_row9_col1\" class=\"data row9 col1\" >False</td>\n",
       "            </tr>\n",
       "            <tr>\n",
       "                        <th id=\"T_55cf2_level0_row10\" class=\"row_heading level0 row10\" >10</th>\n",
       "                        <td id=\"T_55cf2_row10_col0\" class=\"data row10 col0\" >High Cardinality Method</td>\n",
       "                        <td id=\"T_55cf2_row10_col1\" class=\"data row10 col1\" >None</td>\n",
       "            </tr>\n",
       "            <tr>\n",
       "                        <th id=\"T_55cf2_level0_row11\" class=\"row_heading level0 row11\" >11</th>\n",
       "                        <td id=\"T_55cf2_row11_col0\" class=\"data row11 col0\" >Transformed Train Set</td>\n",
       "                        <td id=\"T_55cf2_row11_col1\" class=\"data row11 col1\" >(704598, 9)</td>\n",
       "            </tr>\n",
       "            <tr>\n",
       "                        <th id=\"T_55cf2_level0_row12\" class=\"row_heading level0 row12\" >12</th>\n",
       "                        <td id=\"T_55cf2_row12_col0\" class=\"data row12 col0\" >Transformed Test Set</td>\n",
       "                        <td id=\"T_55cf2_row12_col1\" class=\"data row12 col1\" >(301972, 9)</td>\n",
       "            </tr>\n",
       "            <tr>\n",
       "                        <th id=\"T_55cf2_level0_row13\" class=\"row_heading level0 row13\" >13</th>\n",
       "                        <td id=\"T_55cf2_row13_col0\" class=\"data row13 col0\" >Shuffle Train-Test</td>\n",
       "                        <td id=\"T_55cf2_row13_col1\" class=\"data row13 col1\" >True</td>\n",
       "            </tr>\n",
       "            <tr>\n",
       "                        <th id=\"T_55cf2_level0_row14\" class=\"row_heading level0 row14\" >14</th>\n",
       "                        <td id=\"T_55cf2_row14_col0\" class=\"data row14 col0\" >Stratify Train-Test</td>\n",
       "                        <td id=\"T_55cf2_row14_col1\" class=\"data row14 col1\" >False</td>\n",
       "            </tr>\n",
       "            <tr>\n",
       "                        <th id=\"T_55cf2_level0_row15\" class=\"row_heading level0 row15\" >15</th>\n",
       "                        <td id=\"T_55cf2_row15_col0\" class=\"data row15 col0\" >Fold Generator</td>\n",
       "                        <td id=\"T_55cf2_row15_col1\" class=\"data row15 col1\" >StratifiedKFold</td>\n",
       "            </tr>\n",
       "            <tr>\n",
       "                        <th id=\"T_55cf2_level0_row16\" class=\"row_heading level0 row16\" >16</th>\n",
       "                        <td id=\"T_55cf2_row16_col0\" class=\"data row16 col0\" >Fold Number</td>\n",
       "                        <td id=\"T_55cf2_row16_col1\" class=\"data row16 col1\" >10</td>\n",
       "            </tr>\n",
       "            <tr>\n",
       "                        <th id=\"T_55cf2_level0_row17\" class=\"row_heading level0 row17\" >17</th>\n",
       "                        <td id=\"T_55cf2_row17_col0\" class=\"data row17 col0\" >CPU Jobs</td>\n",
       "                        <td id=\"T_55cf2_row17_col1\" class=\"data row17 col1\" >-1</td>\n",
       "            </tr>\n",
       "            <tr>\n",
       "                        <th id=\"T_55cf2_level0_row18\" class=\"row_heading level0 row18\" >18</th>\n",
       "                        <td id=\"T_55cf2_row18_col0\" class=\"data row18 col0\" >Use GPU</td>\n",
       "                        <td id=\"T_55cf2_row18_col1\" class=\"data row18 col1\" >False</td>\n",
       "            </tr>\n",
       "            <tr>\n",
       "                        <th id=\"T_55cf2_level0_row19\" class=\"row_heading level0 row19\" >19</th>\n",
       "                        <td id=\"T_55cf2_row19_col0\" class=\"data row19 col0\" >Log Experiment</td>\n",
       "                        <td id=\"T_55cf2_row19_col1\" class=\"data row19 col1\" >True</td>\n",
       "            </tr>\n",
       "            <tr>\n",
       "                        <th id=\"T_55cf2_level0_row20\" class=\"row_heading level0 row20\" >20</th>\n",
       "                        <td id=\"T_55cf2_row20_col0\" class=\"data row20 col0\" >Experiment Name</td>\n",
       "                        <td id=\"T_55cf2_row20_col1\" class=\"data row20 col1\" >fraude</td>\n",
       "            </tr>\n",
       "            <tr>\n",
       "                        <th id=\"T_55cf2_level0_row21\" class=\"row_heading level0 row21\" >21</th>\n",
       "                        <td id=\"T_55cf2_row21_col0\" class=\"data row21 col0\" >USI</td>\n",
       "                        <td id=\"T_55cf2_row21_col1\" class=\"data row21 col1\" >50d8</td>\n",
       "            </tr>\n",
       "            <tr>\n",
       "                        <th id=\"T_55cf2_level0_row22\" class=\"row_heading level0 row22\" >22</th>\n",
       "                        <td id=\"T_55cf2_row22_col0\" class=\"data row22 col0\" >Imputation Type</td>\n",
       "                        <td id=\"T_55cf2_row22_col1\" class=\"data row22 col1\" >simple</td>\n",
       "            </tr>\n",
       "            <tr>\n",
       "                        <th id=\"T_55cf2_level0_row23\" class=\"row_heading level0 row23\" >23</th>\n",
       "                        <td id=\"T_55cf2_row23_col0\" class=\"data row23 col0\" >Iterative Imputation Iteration</td>\n",
       "                        <td id=\"T_55cf2_row23_col1\" class=\"data row23 col1\" >None</td>\n",
       "            </tr>\n",
       "            <tr>\n",
       "                        <th id=\"T_55cf2_level0_row24\" class=\"row_heading level0 row24\" >24</th>\n",
       "                        <td id=\"T_55cf2_row24_col0\" class=\"data row24 col0\" >Numeric Imputer</td>\n",
       "                        <td id=\"T_55cf2_row24_col1\" class=\"data row24 col1\" >mean</td>\n",
       "            </tr>\n",
       "            <tr>\n",
       "                        <th id=\"T_55cf2_level0_row25\" class=\"row_heading level0 row25\" >25</th>\n",
       "                        <td id=\"T_55cf2_row25_col0\" class=\"data row25 col0\" >Iterative Imputation Numeric Model</td>\n",
       "                        <td id=\"T_55cf2_row25_col1\" class=\"data row25 col1\" >None</td>\n",
       "            </tr>\n",
       "            <tr>\n",
       "                        <th id=\"T_55cf2_level0_row26\" class=\"row_heading level0 row26\" >26</th>\n",
       "                        <td id=\"T_55cf2_row26_col0\" class=\"data row26 col0\" >Categorical Imputer</td>\n",
       "                        <td id=\"T_55cf2_row26_col1\" class=\"data row26 col1\" >constant</td>\n",
       "            </tr>\n",
       "            <tr>\n",
       "                        <th id=\"T_55cf2_level0_row27\" class=\"row_heading level0 row27\" >27</th>\n",
       "                        <td id=\"T_55cf2_row27_col0\" class=\"data row27 col0\" >Iterative Imputation Categorical Model</td>\n",
       "                        <td id=\"T_55cf2_row27_col1\" class=\"data row27 col1\" >None</td>\n",
       "            </tr>\n",
       "            <tr>\n",
       "                        <th id=\"T_55cf2_level0_row28\" class=\"row_heading level0 row28\" >28</th>\n",
       "                        <td id=\"T_55cf2_row28_col0\" class=\"data row28 col0\" >Unknown Categoricals Handling</td>\n",
       "                        <td id=\"T_55cf2_row28_col1\" class=\"data row28 col1\" >least_frequent</td>\n",
       "            </tr>\n",
       "            <tr>\n",
       "                        <th id=\"T_55cf2_level0_row29\" class=\"row_heading level0 row29\" >29</th>\n",
       "                        <td id=\"T_55cf2_row29_col0\" class=\"data row29 col0\" >Normalize</td>\n",
       "                        <td id=\"T_55cf2_row29_col1\" class=\"data row29 col1\" >False</td>\n",
       "            </tr>\n",
       "            <tr>\n",
       "                        <th id=\"T_55cf2_level0_row30\" class=\"row_heading level0 row30\" >30</th>\n",
       "                        <td id=\"T_55cf2_row30_col0\" class=\"data row30 col0\" >Normalize Method</td>\n",
       "                        <td id=\"T_55cf2_row30_col1\" class=\"data row30 col1\" >None</td>\n",
       "            </tr>\n",
       "            <tr>\n",
       "                        <th id=\"T_55cf2_level0_row31\" class=\"row_heading level0 row31\" >31</th>\n",
       "                        <td id=\"T_55cf2_row31_col0\" class=\"data row31 col0\" >Transformation</td>\n",
       "                        <td id=\"T_55cf2_row31_col1\" class=\"data row31 col1\" >False</td>\n",
       "            </tr>\n",
       "            <tr>\n",
       "                        <th id=\"T_55cf2_level0_row32\" class=\"row_heading level0 row32\" >32</th>\n",
       "                        <td id=\"T_55cf2_row32_col0\" class=\"data row32 col0\" >Transformation Method</td>\n",
       "                        <td id=\"T_55cf2_row32_col1\" class=\"data row32 col1\" >None</td>\n",
       "            </tr>\n",
       "            <tr>\n",
       "                        <th id=\"T_55cf2_level0_row33\" class=\"row_heading level0 row33\" >33</th>\n",
       "                        <td id=\"T_55cf2_row33_col0\" class=\"data row33 col0\" >PCA</td>\n",
       "                        <td id=\"T_55cf2_row33_col1\" class=\"data row33 col1\" >False</td>\n",
       "            </tr>\n",
       "            <tr>\n",
       "                        <th id=\"T_55cf2_level0_row34\" class=\"row_heading level0 row34\" >34</th>\n",
       "                        <td id=\"T_55cf2_row34_col0\" class=\"data row34 col0\" >PCA Method</td>\n",
       "                        <td id=\"T_55cf2_row34_col1\" class=\"data row34 col1\" >None</td>\n",
       "            </tr>\n",
       "            <tr>\n",
       "                        <th id=\"T_55cf2_level0_row35\" class=\"row_heading level0 row35\" >35</th>\n",
       "                        <td id=\"T_55cf2_row35_col0\" class=\"data row35 col0\" >PCA Components</td>\n",
       "                        <td id=\"T_55cf2_row35_col1\" class=\"data row35 col1\" >None</td>\n",
       "            </tr>\n",
       "            <tr>\n",
       "                        <th id=\"T_55cf2_level0_row36\" class=\"row_heading level0 row36\" >36</th>\n",
       "                        <td id=\"T_55cf2_row36_col0\" class=\"data row36 col0\" >Ignore Low Variance</td>\n",
       "                        <td id=\"T_55cf2_row36_col1\" class=\"data row36 col1\" >False</td>\n",
       "            </tr>\n",
       "            <tr>\n",
       "                        <th id=\"T_55cf2_level0_row37\" class=\"row_heading level0 row37\" >37</th>\n",
       "                        <td id=\"T_55cf2_row37_col0\" class=\"data row37 col0\" >Combine Rare Levels</td>\n",
       "                        <td id=\"T_55cf2_row37_col1\" class=\"data row37 col1\" >False</td>\n",
       "            </tr>\n",
       "            <tr>\n",
       "                        <th id=\"T_55cf2_level0_row38\" class=\"row_heading level0 row38\" >38</th>\n",
       "                        <td id=\"T_55cf2_row38_col0\" class=\"data row38 col0\" >Rare Level Threshold</td>\n",
       "                        <td id=\"T_55cf2_row38_col1\" class=\"data row38 col1\" >None</td>\n",
       "            </tr>\n",
       "            <tr>\n",
       "                        <th id=\"T_55cf2_level0_row39\" class=\"row_heading level0 row39\" >39</th>\n",
       "                        <td id=\"T_55cf2_row39_col0\" class=\"data row39 col0\" >Numeric Binning</td>\n",
       "                        <td id=\"T_55cf2_row39_col1\" class=\"data row39 col1\" >False</td>\n",
       "            </tr>\n",
       "            <tr>\n",
       "                        <th id=\"T_55cf2_level0_row40\" class=\"row_heading level0 row40\" >40</th>\n",
       "                        <td id=\"T_55cf2_row40_col0\" class=\"data row40 col0\" >Remove Outliers</td>\n",
       "                        <td id=\"T_55cf2_row40_col1\" class=\"data row40 col1\" >False</td>\n",
       "            </tr>\n",
       "            <tr>\n",
       "                        <th id=\"T_55cf2_level0_row41\" class=\"row_heading level0 row41\" >41</th>\n",
       "                        <td id=\"T_55cf2_row41_col0\" class=\"data row41 col0\" >Outliers Threshold</td>\n",
       "                        <td id=\"T_55cf2_row41_col1\" class=\"data row41 col1\" >None</td>\n",
       "            </tr>\n",
       "            <tr>\n",
       "                        <th id=\"T_55cf2_level0_row42\" class=\"row_heading level0 row42\" >42</th>\n",
       "                        <td id=\"T_55cf2_row42_col0\" class=\"data row42 col0\" >Remove Multicollinearity</td>\n",
       "                        <td id=\"T_55cf2_row42_col1\" class=\"data row42 col1\" >False</td>\n",
       "            </tr>\n",
       "            <tr>\n",
       "                        <th id=\"T_55cf2_level0_row43\" class=\"row_heading level0 row43\" >43</th>\n",
       "                        <td id=\"T_55cf2_row43_col0\" class=\"data row43 col0\" >Multicollinearity Threshold</td>\n",
       "                        <td id=\"T_55cf2_row43_col1\" class=\"data row43 col1\" >None</td>\n",
       "            </tr>\n",
       "            <tr>\n",
       "                        <th id=\"T_55cf2_level0_row44\" class=\"row_heading level0 row44\" >44</th>\n",
       "                        <td id=\"T_55cf2_row44_col0\" class=\"data row44 col0\" >Remove Perfect Collinearity</td>\n",
       "                        <td id=\"T_55cf2_row44_col1\" class=\"data row44 col1\" >True</td>\n",
       "            </tr>\n",
       "            <tr>\n",
       "                        <th id=\"T_55cf2_level0_row45\" class=\"row_heading level0 row45\" >45</th>\n",
       "                        <td id=\"T_55cf2_row45_col0\" class=\"data row45 col0\" >Clustering</td>\n",
       "                        <td id=\"T_55cf2_row45_col1\" class=\"data row45 col1\" >False</td>\n",
       "            </tr>\n",
       "            <tr>\n",
       "                        <th id=\"T_55cf2_level0_row46\" class=\"row_heading level0 row46\" >46</th>\n",
       "                        <td id=\"T_55cf2_row46_col0\" class=\"data row46 col0\" >Clustering Iteration</td>\n",
       "                        <td id=\"T_55cf2_row46_col1\" class=\"data row46 col1\" >None</td>\n",
       "            </tr>\n",
       "            <tr>\n",
       "                        <th id=\"T_55cf2_level0_row47\" class=\"row_heading level0 row47\" >47</th>\n",
       "                        <td id=\"T_55cf2_row47_col0\" class=\"data row47 col0\" >Polynomial Features</td>\n",
       "                        <td id=\"T_55cf2_row47_col1\" class=\"data row47 col1\" >False</td>\n",
       "            </tr>\n",
       "            <tr>\n",
       "                        <th id=\"T_55cf2_level0_row48\" class=\"row_heading level0 row48\" >48</th>\n",
       "                        <td id=\"T_55cf2_row48_col0\" class=\"data row48 col0\" >Polynomial Degree</td>\n",
       "                        <td id=\"T_55cf2_row48_col1\" class=\"data row48 col1\" >None</td>\n",
       "            </tr>\n",
       "            <tr>\n",
       "                        <th id=\"T_55cf2_level0_row49\" class=\"row_heading level0 row49\" >49</th>\n",
       "                        <td id=\"T_55cf2_row49_col0\" class=\"data row49 col0\" >Trignometry Features</td>\n",
       "                        <td id=\"T_55cf2_row49_col1\" class=\"data row49 col1\" >False</td>\n",
       "            </tr>\n",
       "            <tr>\n",
       "                        <th id=\"T_55cf2_level0_row50\" class=\"row_heading level0 row50\" >50</th>\n",
       "                        <td id=\"T_55cf2_row50_col0\" class=\"data row50 col0\" >Polynomial Threshold</td>\n",
       "                        <td id=\"T_55cf2_row50_col1\" class=\"data row50 col1\" >None</td>\n",
       "            </tr>\n",
       "            <tr>\n",
       "                        <th id=\"T_55cf2_level0_row51\" class=\"row_heading level0 row51\" >51</th>\n",
       "                        <td id=\"T_55cf2_row51_col0\" class=\"data row51 col0\" >Group Features</td>\n",
       "                        <td id=\"T_55cf2_row51_col1\" class=\"data row51 col1\" >False</td>\n",
       "            </tr>\n",
       "            <tr>\n",
       "                        <th id=\"T_55cf2_level0_row52\" class=\"row_heading level0 row52\" >52</th>\n",
       "                        <td id=\"T_55cf2_row52_col0\" class=\"data row52 col0\" >Feature Selection</td>\n",
       "                        <td id=\"T_55cf2_row52_col1\" class=\"data row52 col1\" >False</td>\n",
       "            </tr>\n",
       "            <tr>\n",
       "                        <th id=\"T_55cf2_level0_row53\" class=\"row_heading level0 row53\" >53</th>\n",
       "                        <td id=\"T_55cf2_row53_col0\" class=\"data row53 col0\" >Feature Selection Method</td>\n",
       "                        <td id=\"T_55cf2_row53_col1\" class=\"data row53 col1\" >classic</td>\n",
       "            </tr>\n",
       "            <tr>\n",
       "                        <th id=\"T_55cf2_level0_row54\" class=\"row_heading level0 row54\" >54</th>\n",
       "                        <td id=\"T_55cf2_row54_col0\" class=\"data row54 col0\" >Features Selection Threshold</td>\n",
       "                        <td id=\"T_55cf2_row54_col1\" class=\"data row54 col1\" >None</td>\n",
       "            </tr>\n",
       "            <tr>\n",
       "                        <th id=\"T_55cf2_level0_row55\" class=\"row_heading level0 row55\" >55</th>\n",
       "                        <td id=\"T_55cf2_row55_col0\" class=\"data row55 col0\" >Feature Interaction</td>\n",
       "                        <td id=\"T_55cf2_row55_col1\" class=\"data row55 col1\" >False</td>\n",
       "            </tr>\n",
       "            <tr>\n",
       "                        <th id=\"T_55cf2_level0_row56\" class=\"row_heading level0 row56\" >56</th>\n",
       "                        <td id=\"T_55cf2_row56_col0\" class=\"data row56 col0\" >Feature Ratio</td>\n",
       "                        <td id=\"T_55cf2_row56_col1\" class=\"data row56 col1\" >False</td>\n",
       "            </tr>\n",
       "            <tr>\n",
       "                        <th id=\"T_55cf2_level0_row57\" class=\"row_heading level0 row57\" >57</th>\n",
       "                        <td id=\"T_55cf2_row57_col0\" class=\"data row57 col0\" >Interaction Threshold</td>\n",
       "                        <td id=\"T_55cf2_row57_col1\" class=\"data row57 col1\" >None</td>\n",
       "            </tr>\n",
       "            <tr>\n",
       "                        <th id=\"T_55cf2_level0_row58\" class=\"row_heading level0 row58\" >58</th>\n",
       "                        <td id=\"T_55cf2_row58_col0\" class=\"data row58 col0\" >Fix Imbalance</td>\n",
       "                        <td id=\"T_55cf2_row58_col1\" class=\"data row58 col1\" >False</td>\n",
       "            </tr>\n",
       "            <tr>\n",
       "                        <th id=\"T_55cf2_level0_row59\" class=\"row_heading level0 row59\" >59</th>\n",
       "                        <td id=\"T_55cf2_row59_col0\" class=\"data row59 col0\" >Fix Imbalance Method</td>\n",
       "                        <td id=\"T_55cf2_row59_col1\" class=\"data row59 col1\" >SMOTE</td>\n",
       "            </tr>\n",
       "    </tbody></table>"
      ],
      "text/plain": [
       "<pandas.io.formats.style.Styler at 0x7fb438066550>"
      ]
     },
     "metadata": {},
     "output_type": "display_data"
    }
   ],
   "source": [
    "clf = setup(\n",
    "    X_train_sample,\n",
    "    target='isFraud',\n",
    "    categorical_features=['type'],\n",
    "    numeric_features=['step', 'amount', 'newbalanceOrig', 'newbalanceDest', 'nameDest_know'],\n",
    "    log_experiment = True,\n",
    "    experiment_name = 'fraude',\n",
    "    silent=True)"
   ]
  },
  {
   "cell_type": "code",
   "execution_count": 25,
   "id": "9b3c21e4-a7e3-4fb5-be50-51cac5164fac",
   "metadata": {},
   "outputs": [
    {
     "data": {
      "text/plain": [
       "Name                                                            PR AUC\n",
       "Display Name                                                    PR AUC\n",
       "Score Function       <function average_precision_score at 0x7fb54ed...\n",
       "Scorer                            make_scorer(average_precision_score)\n",
       "Target                                                            pred\n",
       "Args                                                                {}\n",
       "Greater is Better                                                 True\n",
       "Multiclass                                                        True\n",
       "Custom                                                            True\n",
       "Name: prauc, dtype: object"
      ]
     },
     "execution_count": 25,
     "metadata": {},
     "output_type": "execute_result"
    }
   ],
   "source": [
    "add_metric('prauc', 'PR AUC', metrics.average_precision_score, greater_is_better = True) "
   ]
  },
  {
   "cell_type": "code",
   "execution_count": 26,
   "id": "a2aa3a7e-bbc3-4aa8-8211-d82e4520306c",
   "metadata": {},
   "outputs": [
    {
     "data": {
      "text/html": [
       "<style  type=\"text/css\" >\n",
       "    #T_0edf9_ th {\n",
       "          text-align: left;\n",
       "    }#T_0edf9_row0_col0,#T_0edf9_row1_col0,#T_0edf9_row1_col1,#T_0edf9_row1_col2,#T_0edf9_row1_col3,#T_0edf9_row1_col4,#T_0edf9_row1_col5,#T_0edf9_row1_col6,#T_0edf9_row1_col7,#T_0edf9_row1_col8,#T_0edf9_row2_col0,#T_0edf9_row2_col1,#T_0edf9_row2_col2,#T_0edf9_row2_col3,#T_0edf9_row2_col4,#T_0edf9_row2_col5,#T_0edf9_row2_col6,#T_0edf9_row2_col7,#T_0edf9_row2_col8{\n",
       "            text-align:  left;\n",
       "            text-align:  left;\n",
       "        }#T_0edf9_row0_col1,#T_0edf9_row0_col2,#T_0edf9_row0_col3,#T_0edf9_row0_col4,#T_0edf9_row0_col5,#T_0edf9_row0_col6,#T_0edf9_row0_col7,#T_0edf9_row0_col8{\n",
       "            text-align:  left;\n",
       "            text-align:  left;\n",
       "            background-color:  yellow;\n",
       "        }#T_0edf9_row0_col9,#T_0edf9_row1_col9{\n",
       "            text-align:  left;\n",
       "            text-align:  left;\n",
       "            background-color:  lightgrey;\n",
       "        }#T_0edf9_row2_col9{\n",
       "            text-align:  left;\n",
       "            text-align:  left;\n",
       "            background-color:  yellow;\n",
       "            background-color:  lightgrey;\n",
       "        }</style><table id=\"T_0edf9_\" ><thead>    <tr>        <th class=\"blank level0\" ></th>        <th class=\"col_heading level0 col0\" >Model</th>        <th class=\"col_heading level0 col1\" >Accuracy</th>        <th class=\"col_heading level0 col2\" >AUC</th>        <th class=\"col_heading level0 col3\" >Recall</th>        <th class=\"col_heading level0 col4\" >Prec.</th>        <th class=\"col_heading level0 col5\" >F1</th>        <th class=\"col_heading level0 col6\" >Kappa</th>        <th class=\"col_heading level0 col7\" >MCC</th>        <th class=\"col_heading level0 col8\" >PR AUC</th>        <th class=\"col_heading level0 col9\" >TT (Sec)</th>    </tr></thead><tbody>\n",
       "                <tr>\n",
       "                        <th id=\"T_0edf9_level0_row0\" class=\"row_heading level0 row0\" >xgboost</th>\n",
       "                        <td id=\"T_0edf9_row0_col0\" class=\"data row0 col0\" >Extreme Gradient Boosting</td>\n",
       "                        <td id=\"T_0edf9_row0_col1\" class=\"data row0 col1\" >0.9982</td>\n",
       "                        <td id=\"T_0edf9_row0_col2\" class=\"data row0 col2\" >0.9890</td>\n",
       "                        <td id=\"T_0edf9_row0_col3\" class=\"data row0 col3\" >0.7570</td>\n",
       "                        <td id=\"T_0edf9_row0_col4\" class=\"data row0 col4\" >0.9655</td>\n",
       "                        <td id=\"T_0edf9_row0_col5\" class=\"data row0 col5\" >0.8485</td>\n",
       "                        <td id=\"T_0edf9_row0_col6\" class=\"data row0 col6\" >0.8476</td>\n",
       "                        <td id=\"T_0edf9_row0_col7\" class=\"data row0 col7\" >0.8540</td>\n",
       "                        <td id=\"T_0edf9_row0_col8\" class=\"data row0 col8\" >0.7324</td>\n",
       "                        <td id=\"T_0edf9_row0_col9\" class=\"data row0 col9\" >20.6160</td>\n",
       "            </tr>\n",
       "            <tr>\n",
       "                        <th id=\"T_0edf9_level0_row1\" class=\"row_heading level0 row1\" >lightgbm</th>\n",
       "                        <td id=\"T_0edf9_row1_col0\" class=\"data row1 col0\" >Light Gradient Boosting Machine</td>\n",
       "                        <td id=\"T_0edf9_row1_col1\" class=\"data row1 col1\" >0.9958</td>\n",
       "                        <td id=\"T_0edf9_row1_col2\" class=\"data row1 col2\" >0.9383</td>\n",
       "                        <td id=\"T_0edf9_row1_col3\" class=\"data row1 col3\" >0.6613</td>\n",
       "                        <td id=\"T_0edf9_row1_col4\" class=\"data row1 col4\" >0.7864</td>\n",
       "                        <td id=\"T_0edf9_row1_col5\" class=\"data row1 col5\" >0.7030</td>\n",
       "                        <td id=\"T_0edf9_row1_col6\" class=\"data row1 col6\" >0.7011</td>\n",
       "                        <td id=\"T_0edf9_row1_col7\" class=\"data row1 col7\" >0.7113</td>\n",
       "                        <td id=\"T_0edf9_row1_col8\" class=\"data row1 col8\" >0.5209</td>\n",
       "                        <td id=\"T_0edf9_row1_col9\" class=\"data row1 col9\" >1.6150</td>\n",
       "            </tr>\n",
       "            <tr>\n",
       "                        <th id=\"T_0edf9_level0_row2\" class=\"row_heading level0 row2\" >lr</th>\n",
       "                        <td id=\"T_0edf9_row2_col0\" class=\"data row2 col0\" >Logistic Regression</td>\n",
       "                        <td id=\"T_0edf9_row2_col1\" class=\"data row2 col1\" >0.9912</td>\n",
       "                        <td id=\"T_0edf9_row2_col2\" class=\"data row2 col2\" >0.5853</td>\n",
       "                        <td id=\"T_0edf9_row2_col3\" class=\"data row2 col3\" >0.1504</td>\n",
       "                        <td id=\"T_0edf9_row2_col4\" class=\"data row2 col4\" >0.2330</td>\n",
       "                        <td id=\"T_0edf9_row2_col5\" class=\"data row2 col5\" >0.1828</td>\n",
       "                        <td id=\"T_0edf9_row2_col6\" class=\"data row2 col6\" >0.1786</td>\n",
       "                        <td id=\"T_0edf9_row2_col7\" class=\"data row2 col7\" >0.1830</td>\n",
       "                        <td id=\"T_0edf9_row2_col8\" class=\"data row2 col8\" >0.0409</td>\n",
       "                        <td id=\"T_0edf9_row2_col9\" class=\"data row2 col9\" >1.4760</td>\n",
       "            </tr>\n",
       "    </tbody></table>"
      ],
      "text/plain": [
       "<pandas.io.formats.style.Styler at 0x7fb440876910>"
      ]
     },
     "metadata": {},
     "output_type": "display_data"
    }
   ],
   "source": [
    "best_models = compare_models(['lr', 'lightgbm', 'xgboost'])"
   ]
  },
  {
   "cell_type": "markdown",
   "id": "81efbe59-e96f-4b24-9737-c4a51ea04143",
   "metadata": {},
   "source": [
    "# xgboost "
   ]
  },
  {
   "cell_type": "code",
   "execution_count": 27,
   "id": "1cf093bb-915b-4e59-8b17-6144ff4d01e2",
   "metadata": {},
   "outputs": [
    {
     "data": {
      "text/html": [
       "<style  type=\"text/css\" >\n",
       "#T_5817f_row10_col0,#T_5817f_row10_col1,#T_5817f_row10_col2,#T_5817f_row10_col3,#T_5817f_row10_col4,#T_5817f_row10_col5,#T_5817f_row10_col6,#T_5817f_row10_col7{\n",
       "            background:  yellow;\n",
       "        }</style><table id=\"T_5817f_\" ><thead>    <tr>        <th class=\"blank level0\" ></th>        <th class=\"col_heading level0 col0\" >Accuracy</th>        <th class=\"col_heading level0 col1\" >AUC</th>        <th class=\"col_heading level0 col2\" >Recall</th>        <th class=\"col_heading level0 col3\" >Prec.</th>        <th class=\"col_heading level0 col4\" >F1</th>        <th class=\"col_heading level0 col5\" >Kappa</th>        <th class=\"col_heading level0 col6\" >MCC</th>        <th class=\"col_heading level0 col7\" >PR AUC</th>    </tr>    <tr>        <th class=\"index_name level0\" >Fold</th>        <th class=\"blank\" ></th>        <th class=\"blank\" ></th>        <th class=\"blank\" ></th>        <th class=\"blank\" ></th>        <th class=\"blank\" ></th>        <th class=\"blank\" ></th>        <th class=\"blank\" ></th>        <th class=\"blank\" ></th>    </tr></thead><tbody>\n",
       "                <tr>\n",
       "                        <th id=\"T_5817f_level0_row0\" class=\"row_heading level0 row0\" >0</th>\n",
       "                        <td id=\"T_5817f_row0_col0\" class=\"data row0 col0\" >0.9977</td>\n",
       "                        <td id=\"T_5817f_row0_col1\" class=\"data row0 col1\" >0.9874</td>\n",
       "                        <td id=\"T_5817f_row0_col2\" class=\"data row0 col2\" >0.7739</td>\n",
       "                        <td id=\"T_5817f_row0_col3\" class=\"data row0 col3\" >0.8578</td>\n",
       "                        <td id=\"T_5817f_row0_col4\" class=\"data row0 col4\" >0.8137</td>\n",
       "                        <td id=\"T_5817f_row0_col5\" class=\"data row0 col5\" >0.8126</td>\n",
       "                        <td id=\"T_5817f_row0_col6\" class=\"data row0 col6\" >0.8136</td>\n",
       "                        <td id=\"T_5817f_row0_col7\" class=\"data row0 col7\" >0.6654</td>\n",
       "            </tr>\n",
       "            <tr>\n",
       "                        <th id=\"T_5817f_level0_row1\" class=\"row_heading level0 row1\" >1</th>\n",
       "                        <td id=\"T_5817f_row1_col0\" class=\"data row1 col0\" >0.9978</td>\n",
       "                        <td id=\"T_5817f_row1_col1\" class=\"data row1 col1\" >0.9840</td>\n",
       "                        <td id=\"T_5817f_row1_col2\" class=\"data row1 col2\" >0.7696</td>\n",
       "                        <td id=\"T_5817f_row1_col3\" class=\"data row1 col3\" >0.8741</td>\n",
       "                        <td id=\"T_5817f_row1_col4\" class=\"data row1 col4\" >0.8185</td>\n",
       "                        <td id=\"T_5817f_row1_col5\" class=\"data row1 col5\" >0.8174</td>\n",
       "                        <td id=\"T_5817f_row1_col6\" class=\"data row1 col6\" >0.8191</td>\n",
       "                        <td id=\"T_5817f_row1_col7\" class=\"data row1 col7\" >0.6742</td>\n",
       "            </tr>\n",
       "            <tr>\n",
       "                        <th id=\"T_5817f_level0_row2\" class=\"row_heading level0 row2\" >2</th>\n",
       "                        <td id=\"T_5817f_row2_col0\" class=\"data row2 col0\" >0.9978</td>\n",
       "                        <td id=\"T_5817f_row2_col1\" class=\"data row2 col1\" >0.9790</td>\n",
       "                        <td id=\"T_5817f_row2_col2\" class=\"data row2 col2\" >0.7696</td>\n",
       "                        <td id=\"T_5817f_row2_col3\" class=\"data row2 col3\" >0.8806</td>\n",
       "                        <td id=\"T_5817f_row2_col4\" class=\"data row2 col4\" >0.8213</td>\n",
       "                        <td id=\"T_5817f_row2_col5\" class=\"data row2 col5\" >0.8203</td>\n",
       "                        <td id=\"T_5817f_row2_col6\" class=\"data row2 col6\" >0.8221</td>\n",
       "                        <td id=\"T_5817f_row2_col7\" class=\"data row2 col7\" >0.6792</td>\n",
       "            </tr>\n",
       "            <tr>\n",
       "                        <th id=\"T_5817f_level0_row3\" class=\"row_heading level0 row3\" >3</th>\n",
       "                        <td id=\"T_5817f_row3_col0\" class=\"data row3 col0\" >0.9976</td>\n",
       "                        <td id=\"T_5817f_row3_col1\" class=\"data row3 col1\" >0.9839</td>\n",
       "                        <td id=\"T_5817f_row3_col2\" class=\"data row3 col2\" >0.7609</td>\n",
       "                        <td id=\"T_5817f_row3_col3\" class=\"data row3 col3\" >0.8621</td>\n",
       "                        <td id=\"T_5817f_row3_col4\" class=\"data row3 col4\" >0.8083</td>\n",
       "                        <td id=\"T_5817f_row3_col5\" class=\"data row3 col5\" >0.8071</td>\n",
       "                        <td id=\"T_5817f_row3_col6\" class=\"data row3 col6\" >0.8087</td>\n",
       "                        <td id=\"T_5817f_row3_col7\" class=\"data row3 col7\" >0.6575</td>\n",
       "            </tr>\n",
       "            <tr>\n",
       "                        <th id=\"T_5817f_level0_row4\" class=\"row_heading level0 row4\" >4</th>\n",
       "                        <td id=\"T_5817f_row4_col0\" class=\"data row4 col0\" >0.9977</td>\n",
       "                        <td id=\"T_5817f_row4_col1\" class=\"data row4 col1\" >0.9860</td>\n",
       "                        <td id=\"T_5817f_row4_col2\" class=\"data row4 col2\" >0.7543</td>\n",
       "                        <td id=\"T_5817f_row4_col3\" class=\"data row4 col3\" >0.8741</td>\n",
       "                        <td id=\"T_5817f_row4_col4\" class=\"data row4 col4\" >0.8098</td>\n",
       "                        <td id=\"T_5817f_row4_col5\" class=\"data row4 col5\" >0.8086</td>\n",
       "                        <td id=\"T_5817f_row4_col6\" class=\"data row4 col6\" >0.8109</td>\n",
       "                        <td id=\"T_5817f_row4_col7\" class=\"data row4 col7\" >0.6609</td>\n",
       "            </tr>\n",
       "            <tr>\n",
       "                        <th id=\"T_5817f_level0_row5\" class=\"row_heading level0 row5\" >5</th>\n",
       "                        <td id=\"T_5817f_row5_col0\" class=\"data row5 col0\" >0.9977</td>\n",
       "                        <td id=\"T_5817f_row5_col1\" class=\"data row5 col1\" >0.9879</td>\n",
       "                        <td id=\"T_5817f_row5_col2\" class=\"data row5 col2\" >0.7739</td>\n",
       "                        <td id=\"T_5817f_row5_col3\" class=\"data row5 col3\" >0.8599</td>\n",
       "                        <td id=\"T_5817f_row5_col4\" class=\"data row5 col4\" >0.8146</td>\n",
       "                        <td id=\"T_5817f_row5_col5\" class=\"data row5 col5\" >0.8135</td>\n",
       "                        <td id=\"T_5817f_row5_col6\" class=\"data row5 col6\" >0.8146</td>\n",
       "                        <td id=\"T_5817f_row5_col7\" class=\"data row5 col7\" >0.6670</td>\n",
       "            </tr>\n",
       "            <tr>\n",
       "                        <th id=\"T_5817f_level0_row6\" class=\"row_heading level0 row6\" >6</th>\n",
       "                        <td id=\"T_5817f_row6_col0\" class=\"data row6 col0\" >0.9981</td>\n",
       "                        <td id=\"T_5817f_row6_col1\" class=\"data row6 col1\" >0.9839</td>\n",
       "                        <td id=\"T_5817f_row6_col2\" class=\"data row6 col2\" >0.7957</td>\n",
       "                        <td id=\"T_5817f_row6_col3\" class=\"data row6 col3\" >0.8971</td>\n",
       "                        <td id=\"T_5817f_row6_col4\" class=\"data row6 col4\" >0.8433</td>\n",
       "                        <td id=\"T_5817f_row6_col5\" class=\"data row6 col5\" >0.8424</td>\n",
       "                        <td id=\"T_5817f_row6_col6\" class=\"data row6 col6\" >0.8439</td>\n",
       "                        <td id=\"T_5817f_row6_col7\" class=\"data row6 col7\" >0.7151</td>\n",
       "            </tr>\n",
       "            <tr>\n",
       "                        <th id=\"T_5817f_level0_row7\" class=\"row_heading level0 row7\" >7</th>\n",
       "                        <td id=\"T_5817f_row7_col0\" class=\"data row7 col0\" >0.9978</td>\n",
       "                        <td id=\"T_5817f_row7_col1\" class=\"data row7 col1\" >0.9854</td>\n",
       "                        <td id=\"T_5817f_row7_col2\" class=\"data row7 col2\" >0.7739</td>\n",
       "                        <td id=\"T_5817f_row7_col3\" class=\"data row7 col3\" >0.8725</td>\n",
       "                        <td id=\"T_5817f_row7_col4\" class=\"data row7 col4\" >0.8203</td>\n",
       "                        <td id=\"T_5817f_row7_col5\" class=\"data row7 col5\" >0.8192</td>\n",
       "                        <td id=\"T_5817f_row7_col6\" class=\"data row7 col6\" >0.8207</td>\n",
       "                        <td id=\"T_5817f_row7_col7\" class=\"data row7 col7\" >0.6768</td>\n",
       "            </tr>\n",
       "            <tr>\n",
       "                        <th id=\"T_5817f_level0_row8\" class=\"row_heading level0 row8\" >8</th>\n",
       "                        <td id=\"T_5817f_row8_col0\" class=\"data row8 col0\" >0.9977</td>\n",
       "                        <td id=\"T_5817f_row8_col1\" class=\"data row8 col1\" >0.9840</td>\n",
       "                        <td id=\"T_5817f_row8_col2\" class=\"data row8 col2\" >0.7848</td>\n",
       "                        <td id=\"T_5817f_row8_col3\" class=\"data row8 col3\" >0.8494</td>\n",
       "                        <td id=\"T_5817f_row8_col4\" class=\"data row8 col4\" >0.8158</td>\n",
       "                        <td id=\"T_5817f_row8_col5\" class=\"data row8 col5\" >0.8147</td>\n",
       "                        <td id=\"T_5817f_row8_col6\" class=\"data row8 col6\" >0.8153</td>\n",
       "                        <td id=\"T_5817f_row8_col7\" class=\"data row8 col7\" >0.6680</td>\n",
       "            </tr>\n",
       "            <tr>\n",
       "                        <th id=\"T_5817f_level0_row9\" class=\"row_heading level0 row9\" >9</th>\n",
       "                        <td id=\"T_5817f_row9_col0\" class=\"data row9 col0\" >0.9978</td>\n",
       "                        <td id=\"T_5817f_row9_col1\" class=\"data row9 col1\" >0.9842</td>\n",
       "                        <td id=\"T_5817f_row9_col2\" class=\"data row9 col2\" >0.7826</td>\n",
       "                        <td id=\"T_5817f_row9_col3\" class=\"data row9 col3\" >0.8696</td>\n",
       "                        <td id=\"T_5817f_row9_col4\" class=\"data row9 col4\" >0.8238</td>\n",
       "                        <td id=\"T_5817f_row9_col5\" class=\"data row9 col5\" >0.8227</td>\n",
       "                        <td id=\"T_5817f_row9_col6\" class=\"data row9 col6\" >0.8239</td>\n",
       "                        <td id=\"T_5817f_row9_col7\" class=\"data row9 col7\" >0.6819</td>\n",
       "            </tr>\n",
       "            <tr>\n",
       "                        <th id=\"T_5817f_level0_row10\" class=\"row_heading level0 row10\" >Mean</th>\n",
       "                        <td id=\"T_5817f_row10_col0\" class=\"data row10 col0\" >0.9978</td>\n",
       "                        <td id=\"T_5817f_row10_col1\" class=\"data row10 col1\" >0.9846</td>\n",
       "                        <td id=\"T_5817f_row10_col2\" class=\"data row10 col2\" >0.7739</td>\n",
       "                        <td id=\"T_5817f_row10_col3\" class=\"data row10 col3\" >0.8697</td>\n",
       "                        <td id=\"T_5817f_row10_col4\" class=\"data row10 col4\" >0.8190</td>\n",
       "                        <td id=\"T_5817f_row10_col5\" class=\"data row10 col5\" >0.8178</td>\n",
       "                        <td id=\"T_5817f_row10_col6\" class=\"data row10 col6\" >0.8193</td>\n",
       "                        <td id=\"T_5817f_row10_col7\" class=\"data row10 col7\" >0.6746</td>\n",
       "            </tr>\n",
       "            <tr>\n",
       "                        <th id=\"T_5817f_level0_row11\" class=\"row_heading level0 row11\" >Std</th>\n",
       "                        <td id=\"T_5817f_row11_col0\" class=\"data row11 col0\" >0.0001</td>\n",
       "                        <td id=\"T_5817f_row11_col1\" class=\"data row11 col1\" >0.0023</td>\n",
       "                        <td id=\"T_5817f_row11_col2\" class=\"data row11 col2\" >0.0112</td>\n",
       "                        <td id=\"T_5817f_row11_col3\" class=\"data row11 col3\" >0.0127</td>\n",
       "                        <td id=\"T_5817f_row11_col4\" class=\"data row11 col4\" >0.0094</td>\n",
       "                        <td id=\"T_5817f_row11_col5\" class=\"data row11 col5\" >0.0094</td>\n",
       "                        <td id=\"T_5817f_row11_col6\" class=\"data row11 col6\" >0.0094</td>\n",
       "                        <td id=\"T_5817f_row11_col7\" class=\"data row11 col7\" >0.0154</td>\n",
       "            </tr>\n",
       "    </tbody></table>"
      ],
      "text/plain": [
       "<pandas.io.formats.style.Styler at 0x7fb493dab910>"
      ]
     },
     "metadata": {},
     "output_type": "display_data"
    }
   ],
   "source": [
    "xgboost_model = create_model('xgboost',fold=10)\n",
    "tuned_xgboost = tune_model(xgboost_model, optimize = 'prauc',fold=10)"
   ]
  },
  {
   "cell_type": "code",
   "execution_count": null,
   "id": "ded15277-9b4f-49a2-94ad-f5c8bcd734dd",
   "metadata": {},
   "outputs": [],
   "source": []
  },
  {
   "cell_type": "code",
   "execution_count": 45,
   "id": "5dacec13-a0fb-4aa5-ba92-8935a447233c",
   "metadata": {},
   "outputs": [
    {
     "data": {
      "text/html": [
       "<style  type=\"text/css\" >\n",
       "</style><table id=\"T_fa113_\" ><thead>    <tr>        <th class=\"blank level0\" ></th>        <th class=\"col_heading level0 col0\" >Model</th>        <th class=\"col_heading level0 col1\" >Accuracy</th>        <th class=\"col_heading level0 col2\" >AUC</th>        <th class=\"col_heading level0 col3\" >Recall</th>        <th class=\"col_heading level0 col4\" >Prec.</th>        <th class=\"col_heading level0 col5\" >F1</th>        <th class=\"col_heading level0 col6\" >Kappa</th>        <th class=\"col_heading level0 col7\" >MCC</th>        <th class=\"col_heading level0 col8\" >PR AUC</th>    </tr></thead><tbody>\n",
       "                <tr>\n",
       "                        <th id=\"T_fa113_level0_row0\" class=\"row_heading level0 row0\" >0</th>\n",
       "                        <td id=\"T_fa113_row0_col0\" class=\"data row0 col0\" >Extreme Gradient Boosting</td>\n",
       "                        <td id=\"T_fa113_row0_col1\" class=\"data row0 col1\" >0.9990</td>\n",
       "                        <td id=\"T_fa113_row0_col2\" class=\"data row0 col2\" >0.9844</td>\n",
       "                        <td id=\"T_fa113_row0_col3\" class=\"data row0 col3\" >0.7888</td>\n",
       "                        <td id=\"T_fa113_row0_col4\" class=\"data row0 col4\" >0.5804</td>\n",
       "                        <td id=\"T_fa113_row0_col5\" class=\"data row0 col5\" >0.6687</td>\n",
       "                        <td id=\"T_fa113_row0_col6\" class=\"data row0 col6\" >0.6682</td>\n",
       "                        <td id=\"T_fa113_row0_col7\" class=\"data row0 col7\" >0.6761</td>\n",
       "                        <td id=\"T_fa113_row0_col8\" class=\"data row0 col8\" >0.4581</td>\n",
       "            </tr>\n",
       "    </tbody></table>"
      ],
      "text/plain": [
       "<pandas.io.formats.style.Styler at 0x7fb43b24df50>"
      ]
     },
     "metadata": {},
     "output_type": "display_data"
    }
   ],
   "source": [
    "preds_xgboost = predict_model(tuned_xgboost, data = X_test, raw_score=True)"
   ]
  },
  {
   "cell_type": "code",
   "execution_count": 49,
   "id": "a68aa160-9cbd-4473-afa0-0766d1acc193",
   "metadata": {},
   "outputs": [
    {
     "data": {
      "text/plain": [
       "45042665067.918564"
      ]
     },
     "execution_count": 49,
     "metadata": {},
     "output_type": "execute_result"
    }
   ],
   "source": [
    "cost_function_amount(preds_xgboost.isFraud.values, preds_xgboost.Score_1.values, preds_xgboost.amount.values)"
   ]
  },
  {
   "cell_type": "code",
   "execution_count": null,
   "id": "3e874469-c538-45eb-a8e2-009ace1f30cf",
   "metadata": {},
   "outputs": [],
   "source": []
  },
  {
   "cell_type": "markdown",
   "id": "8ce57083-7d3d-4259-87df-d2eccdefe311",
   "metadata": {},
   "source": [
    "# lightgbm"
   ]
  },
  {
   "cell_type": "code",
   "execution_count": 35,
   "id": "ed5d7690-3c42-48ba-92f3-3040a7f4815b",
   "metadata": {},
   "outputs": [
    {
     "data": {
      "text/html": [
       "<style  type=\"text/css\" >\n",
       "#T_dbb8a_row10_col0,#T_dbb8a_row10_col1,#T_dbb8a_row10_col2,#T_dbb8a_row10_col3,#T_dbb8a_row10_col4,#T_dbb8a_row10_col5,#T_dbb8a_row10_col6,#T_dbb8a_row10_col7{\n",
       "            background:  yellow;\n",
       "        }</style><table id=\"T_dbb8a_\" ><thead>    <tr>        <th class=\"blank level0\" ></th>        <th class=\"col_heading level0 col0\" >Accuracy</th>        <th class=\"col_heading level0 col1\" >AUC</th>        <th class=\"col_heading level0 col2\" >Recall</th>        <th class=\"col_heading level0 col3\" >Prec.</th>        <th class=\"col_heading level0 col4\" >F1</th>        <th class=\"col_heading level0 col5\" >Kappa</th>        <th class=\"col_heading level0 col6\" >MCC</th>        <th class=\"col_heading level0 col7\" >PR AUC</th>    </tr>    <tr>        <th class=\"index_name level0\" >Fold</th>        <th class=\"blank\" ></th>        <th class=\"blank\" ></th>        <th class=\"blank\" ></th>        <th class=\"blank\" ></th>        <th class=\"blank\" ></th>        <th class=\"blank\" ></th>        <th class=\"blank\" ></th>        <th class=\"blank\" ></th>    </tr></thead><tbody>\n",
       "                <tr>\n",
       "                        <th id=\"T_dbb8a_level0_row0\" class=\"row_heading level0 row0\" >0</th>\n",
       "                        <td id=\"T_dbb8a_row0_col0\" class=\"data row0 col0\" >0.9977</td>\n",
       "                        <td id=\"T_dbb8a_row0_col1\" class=\"data row0 col1\" >0.9901</td>\n",
       "                        <td id=\"T_dbb8a_row0_col2\" class=\"data row0 col2\" >0.6804</td>\n",
       "                        <td id=\"T_dbb8a_row0_col3\" class=\"data row0 col3\" >0.9631</td>\n",
       "                        <td id=\"T_dbb8a_row0_col4\" class=\"data row0 col4\" >0.7975</td>\n",
       "                        <td id=\"T_dbb8a_row0_col5\" class=\"data row0 col5\" >0.7964</td>\n",
       "                        <td id=\"T_dbb8a_row0_col6\" class=\"data row0 col6\" >0.8085</td>\n",
       "                        <td id=\"T_dbb8a_row0_col7\" class=\"data row0 col7\" >0.6574</td>\n",
       "            </tr>\n",
       "            <tr>\n",
       "                        <th id=\"T_dbb8a_level0_row1\" class=\"row_heading level0 row1\" >1</th>\n",
       "                        <td id=\"T_dbb8a_row1_col0\" class=\"data row1 col0\" >0.9978</td>\n",
       "                        <td id=\"T_dbb8a_row1_col1\" class=\"data row1 col1\" >0.9875</td>\n",
       "                        <td id=\"T_dbb8a_row1_col2\" class=\"data row1 col2\" >0.7087</td>\n",
       "                        <td id=\"T_dbb8a_row1_col3\" class=\"data row1 col3\" >0.9422</td>\n",
       "                        <td id=\"T_dbb8a_row1_col4\" class=\"data row1 col4\" >0.8089</td>\n",
       "                        <td id=\"T_dbb8a_row1_col5\" class=\"data row1 col5\" >0.8079</td>\n",
       "                        <td id=\"T_dbb8a_row1_col6\" class=\"data row1 col6\" >0.8162</td>\n",
       "                        <td id=\"T_dbb8a_row1_col7\" class=\"data row1 col7\" >0.6696</td>\n",
       "            </tr>\n",
       "            <tr>\n",
       "                        <th id=\"T_dbb8a_level0_row2\" class=\"row_heading level0 row2\" >2</th>\n",
       "                        <td id=\"T_dbb8a_row2_col0\" class=\"data row2 col0\" >0.9978</td>\n",
       "                        <td id=\"T_dbb8a_row2_col1\" class=\"data row2 col1\" >0.9855</td>\n",
       "                        <td id=\"T_dbb8a_row2_col2\" class=\"data row2 col2\" >0.7109</td>\n",
       "                        <td id=\"T_dbb8a_row2_col3\" class=\"data row2 col3\" >0.9370</td>\n",
       "                        <td id=\"T_dbb8a_row2_col4\" class=\"data row2 col4\" >0.8084</td>\n",
       "                        <td id=\"T_dbb8a_row2_col5\" class=\"data row2 col5\" >0.8073</td>\n",
       "                        <td id=\"T_dbb8a_row2_col6\" class=\"data row2 col6\" >0.8151</td>\n",
       "                        <td id=\"T_dbb8a_row2_col7\" class=\"data row2 col7\" >0.6679</td>\n",
       "            </tr>\n",
       "            <tr>\n",
       "                        <th id=\"T_dbb8a_level0_row3\" class=\"row_heading level0 row3\" >3</th>\n",
       "                        <td id=\"T_dbb8a_row3_col0\" class=\"data row3 col0\" >0.9978</td>\n",
       "                        <td id=\"T_dbb8a_row3_col1\" class=\"data row3 col1\" >0.9869</td>\n",
       "                        <td id=\"T_dbb8a_row3_col2\" class=\"data row3 col2\" >0.7043</td>\n",
       "                        <td id=\"T_dbb8a_row3_col3\" class=\"data row3 col3\" >0.9419</td>\n",
       "                        <td id=\"T_dbb8a_row3_col4\" class=\"data row3 col4\" >0.8060</td>\n",
       "                        <td id=\"T_dbb8a_row3_col5\" class=\"data row3 col5\" >0.8049</td>\n",
       "                        <td id=\"T_dbb8a_row3_col6\" class=\"data row3 col6\" >0.8135</td>\n",
       "                        <td id=\"T_dbb8a_row3_col7\" class=\"data row3 col7\" >0.6653</td>\n",
       "            </tr>\n",
       "            <tr>\n",
       "                        <th id=\"T_dbb8a_level0_row4\" class=\"row_heading level0 row4\" >4</th>\n",
       "                        <td id=\"T_dbb8a_row4_col0\" class=\"data row4 col0\" >0.9978</td>\n",
       "                        <td id=\"T_dbb8a_row4_col1\" class=\"data row4 col1\" >0.9898</td>\n",
       "                        <td id=\"T_dbb8a_row4_col2\" class=\"data row4 col2\" >0.6891</td>\n",
       "                        <td id=\"T_dbb8a_row4_col3\" class=\"data row4 col3\" >0.9577</td>\n",
       "                        <td id=\"T_dbb8a_row4_col4\" class=\"data row4 col4\" >0.8015</td>\n",
       "                        <td id=\"T_dbb8a_row4_col5\" class=\"data row4 col5\" >0.8004</td>\n",
       "                        <td id=\"T_dbb8a_row4_col6\" class=\"data row4 col6\" >0.8114</td>\n",
       "                        <td id=\"T_dbb8a_row4_col7\" class=\"data row4 col7\" >0.6620</td>\n",
       "            </tr>\n",
       "            <tr>\n",
       "                        <th id=\"T_dbb8a_level0_row5\" class=\"row_heading level0 row5\" >5</th>\n",
       "                        <td id=\"T_dbb8a_row5_col0\" class=\"data row5 col0\" >0.9979</td>\n",
       "                        <td id=\"T_dbb8a_row5_col1\" class=\"data row5 col1\" >0.9901</td>\n",
       "                        <td id=\"T_dbb8a_row5_col2\" class=\"data row5 col2\" >0.7130</td>\n",
       "                        <td id=\"T_dbb8a_row5_col3\" class=\"data row5 col3\" >0.9480</td>\n",
       "                        <td id=\"T_dbb8a_row5_col4\" class=\"data row5 col4\" >0.8139</td>\n",
       "                        <td id=\"T_dbb8a_row5_col5\" class=\"data row5 col5\" >0.8128</td>\n",
       "                        <td id=\"T_dbb8a_row5_col6\" class=\"data row5 col6\" >0.8212</td>\n",
       "                        <td id=\"T_dbb8a_row5_col7\" class=\"data row5 col7\" >0.6778</td>\n",
       "            </tr>\n",
       "            <tr>\n",
       "                        <th id=\"T_dbb8a_level0_row6\" class=\"row_heading level0 row6\" >6</th>\n",
       "                        <td id=\"T_dbb8a_row6_col0\" class=\"data row6 col0\" >0.9981</td>\n",
       "                        <td id=\"T_dbb8a_row6_col1\" class=\"data row6 col1\" >0.9867</td>\n",
       "                        <td id=\"T_dbb8a_row6_col2\" class=\"data row6 col2\" >0.7304</td>\n",
       "                        <td id=\"T_dbb8a_row6_col3\" class=\"data row6 col3\" >0.9739</td>\n",
       "                        <td id=\"T_dbb8a_row6_col4\" class=\"data row6 col4\" >0.8348</td>\n",
       "                        <td id=\"T_dbb8a_row6_col5\" class=\"data row6 col5\" >0.8339</td>\n",
       "                        <td id=\"T_dbb8a_row6_col6\" class=\"data row6 col6\" >0.8426</td>\n",
       "                        <td id=\"T_dbb8a_row6_col7\" class=\"data row6 col7\" >0.7131</td>\n",
       "            </tr>\n",
       "            <tr>\n",
       "                        <th id=\"T_dbb8a_level0_row7\" class=\"row_heading level0 row7\" >7</th>\n",
       "                        <td id=\"T_dbb8a_row7_col0\" class=\"data row7 col0\" >0.9980</td>\n",
       "                        <td id=\"T_dbb8a_row7_col1\" class=\"data row7 col1\" >0.9858</td>\n",
       "                        <td id=\"T_dbb8a_row7_col2\" class=\"data row7 col2\" >0.7152</td>\n",
       "                        <td id=\"T_dbb8a_row7_col3\" class=\"data row7 col3\" >0.9705</td>\n",
       "                        <td id=\"T_dbb8a_row7_col4\" class=\"data row7 col4\" >0.8235</td>\n",
       "                        <td id=\"T_dbb8a_row7_col5\" class=\"data row7 col5\" >0.8225</td>\n",
       "                        <td id=\"T_dbb8a_row7_col6\" class=\"data row7 col6\" >0.8323</td>\n",
       "                        <td id=\"T_dbb8a_row7_col7\" class=\"data row7 col7\" >0.6960</td>\n",
       "            </tr>\n",
       "            <tr>\n",
       "                        <th id=\"T_dbb8a_level0_row8\" class=\"row_heading level0 row8\" >8</th>\n",
       "                        <td id=\"T_dbb8a_row8_col0\" class=\"data row8 col0\" >0.9978</td>\n",
       "                        <td id=\"T_dbb8a_row8_col1\" class=\"data row8 col1\" >0.9870</td>\n",
       "                        <td id=\"T_dbb8a_row8_col2\" class=\"data row8 col2\" >0.7152</td>\n",
       "                        <td id=\"T_dbb8a_row8_col3\" class=\"data row8 col3\" >0.9400</td>\n",
       "                        <td id=\"T_dbb8a_row8_col4\" class=\"data row8 col4\" >0.8123</td>\n",
       "                        <td id=\"T_dbb8a_row8_col5\" class=\"data row8 col5\" >0.8113</td>\n",
       "                        <td id=\"T_dbb8a_row8_col6\" class=\"data row8 col6\" >0.8190</td>\n",
       "                        <td id=\"T_dbb8a_row8_col7\" class=\"data row8 col7\" >0.6742</td>\n",
       "            </tr>\n",
       "            <tr>\n",
       "                        <th id=\"T_dbb8a_level0_row9\" class=\"row_heading level0 row9\" >9</th>\n",
       "                        <td id=\"T_dbb8a_row9_col0\" class=\"data row9 col0\" >0.9980</td>\n",
       "                        <td id=\"T_dbb8a_row9_col1\" class=\"data row9 col1\" >0.9895</td>\n",
       "                        <td id=\"T_dbb8a_row9_col2\" class=\"data row9 col2\" >0.7217</td>\n",
       "                        <td id=\"T_dbb8a_row9_col3\" class=\"data row9 col3\" >0.9540</td>\n",
       "                        <td id=\"T_dbb8a_row9_col4\" class=\"data row9 col4\" >0.8218</td>\n",
       "                        <td id=\"T_dbb8a_row9_col5\" class=\"data row9 col5\" >0.8208</td>\n",
       "                        <td id=\"T_dbb8a_row9_col6\" class=\"data row9 col6\" >0.8289</td>\n",
       "                        <td id=\"T_dbb8a_row9_col7\" class=\"data row9 col7\" >0.6904</td>\n",
       "            </tr>\n",
       "            <tr>\n",
       "                        <th id=\"T_dbb8a_level0_row10\" class=\"row_heading level0 row10\" >Mean</th>\n",
       "                        <td id=\"T_dbb8a_row10_col0\" class=\"data row10 col0\" >0.9979</td>\n",
       "                        <td id=\"T_dbb8a_row10_col1\" class=\"data row10 col1\" >0.9879</td>\n",
       "                        <td id=\"T_dbb8a_row10_col2\" class=\"data row10 col2\" >0.7089</td>\n",
       "                        <td id=\"T_dbb8a_row10_col3\" class=\"data row10 col3\" >0.9528</td>\n",
       "                        <td id=\"T_dbb8a_row10_col4\" class=\"data row10 col4\" >0.8129</td>\n",
       "                        <td id=\"T_dbb8a_row10_col5\" class=\"data row10 col5\" >0.8118</td>\n",
       "                        <td id=\"T_dbb8a_row10_col6\" class=\"data row10 col6\" >0.8209</td>\n",
       "                        <td id=\"T_dbb8a_row10_col7\" class=\"data row10 col7\" >0.6774</td>\n",
       "            </tr>\n",
       "            <tr>\n",
       "                        <th id=\"T_dbb8a_level0_row11\" class=\"row_heading level0 row11\" >Std</th>\n",
       "                        <td id=\"T_dbb8a_row11_col0\" class=\"data row11 col0\" >0.0001</td>\n",
       "                        <td id=\"T_dbb8a_row11_col1\" class=\"data row11 col1\" >0.0017</td>\n",
       "                        <td id=\"T_dbb8a_row11_col2\" class=\"data row11 col2\" >0.0140</td>\n",
       "                        <td id=\"T_dbb8a_row11_col3\" class=\"data row11 col3\" >0.0125</td>\n",
       "                        <td id=\"T_dbb8a_row11_col4\" class=\"data row11 col4\" >0.0106</td>\n",
       "                        <td id=\"T_dbb8a_row11_col5\" class=\"data row11 col5\" >0.0107</td>\n",
       "                        <td id=\"T_dbb8a_row11_col6\" class=\"data row11 col6\" >0.0101</td>\n",
       "                        <td id=\"T_dbb8a_row11_col7\" class=\"data row11 col7\" >0.0165</td>\n",
       "            </tr>\n",
       "    </tbody></table>"
      ],
      "text/plain": [
       "<pandas.io.formats.style.Styler at 0x7fb4857bea90>"
      ]
     },
     "metadata": {},
     "output_type": "display_data"
    }
   ],
   "source": [
    "lightgbm_model = create_model('lightgbm',fold=10)\n",
    "tuned_lightgbm = tune_model(lightgbm_model, optimize = 'prauc',fold=10)    "
   ]
  },
  {
   "cell_type": "code",
   "execution_count": 43,
   "id": "4ca39b6d-6196-45f4-a056-24c923000b34",
   "metadata": {},
   "outputs": [
    {
     "data": {
      "text/html": [
       "<style  type=\"text/css\" >\n",
       "</style><table id=\"T_6d787_\" ><thead>    <tr>        <th class=\"blank level0\" ></th>        <th class=\"col_heading level0 col0\" >Model</th>        <th class=\"col_heading level0 col1\" >Accuracy</th>        <th class=\"col_heading level0 col2\" >AUC</th>        <th class=\"col_heading level0 col3\" >Recall</th>        <th class=\"col_heading level0 col4\" >Prec.</th>        <th class=\"col_heading level0 col5\" >F1</th>        <th class=\"col_heading level0 col6\" >Kappa</th>        <th class=\"col_heading level0 col7\" >MCC</th>        <th class=\"col_heading level0 col8\" >PR AUC</th>    </tr></thead><tbody>\n",
       "                <tr>\n",
       "                        <th id=\"T_6d787_level0_row0\" class=\"row_heading level0 row0\" >0</th>\n",
       "                        <td id=\"T_6d787_row0_col0\" class=\"data row0 col0\" >Light Gradient Boosting Machine</td>\n",
       "                        <td id=\"T_6d787_row0_col1\" class=\"data row0 col1\" >0.9994</td>\n",
       "                        <td id=\"T_6d787_row0_col2\" class=\"data row0 col2\" >0.9876</td>\n",
       "                        <td id=\"T_6d787_row0_col3\" class=\"data row0 col3\" >0.7103</td>\n",
       "                        <td id=\"T_6d787_row0_col4\" class=\"data row0 col4\" >0.8207</td>\n",
       "                        <td id=\"T_6d787_row0_col5\" class=\"data row0 col5\" >0.7615</td>\n",
       "                        <td id=\"T_6d787_row0_col6\" class=\"data row0 col6\" >0.7612</td>\n",
       "                        <td id=\"T_6d787_row0_col7\" class=\"data row0 col7\" >0.7632</td>\n",
       "                        <td id=\"T_6d787_row0_col8\" class=\"data row0 col8\" >0.5833</td>\n",
       "            </tr>\n",
       "    </tbody></table>"
      ],
      "text/plain": [
       "<pandas.io.formats.style.Styler at 0x7fb4afcdd7d0>"
      ]
     },
     "metadata": {},
     "output_type": "display_data"
    }
   ],
   "source": [
    "preds_lightgbm = predict_model(tuned_lightgbm, data = X_test, raw_score=True)"
   ]
  },
  {
   "cell_type": "code",
   "execution_count": 44,
   "id": "ef4e5d7e-3e35-45e1-b6fc-a89dd409351f",
   "metadata": {},
   "outputs": [
    {
     "data": {
      "text/plain": [
       "45072820220.81244"
      ]
     },
     "execution_count": 44,
     "metadata": {},
     "output_type": "execute_result"
    }
   ],
   "source": [
    "cost_function_amount(preds_lightgbm.isFraud.values, preds_lightgbm.Score_1.values, preds_lightgbm.amount.values)"
   ]
  },
  {
   "cell_type": "code",
   "execution_count": null,
   "id": "dbf1f3ab-5a54-457b-847c-448afcf88758",
   "metadata": {},
   "outputs": [],
   "source": []
  },
  {
   "cell_type": "markdown",
   "id": "2cbc633d-56b0-4071-bfa3-61f22a93aa91",
   "metadata": {},
   "source": [
    "# Linel regresion"
   ]
  },
  {
   "cell_type": "code",
   "execution_count": 39,
   "id": "cf370d87-5a61-4e87-8292-eba206d6b2af",
   "metadata": {},
   "outputs": [
    {
     "data": {
      "text/html": [
       "<style  type=\"text/css\" >\n",
       "#T_4ff0b_row10_col0,#T_4ff0b_row10_col1,#T_4ff0b_row10_col2,#T_4ff0b_row10_col3,#T_4ff0b_row10_col4,#T_4ff0b_row10_col5,#T_4ff0b_row10_col6,#T_4ff0b_row10_col7{\n",
       "            background:  yellow;\n",
       "        }</style><table id=\"T_4ff0b_\" ><thead>    <tr>        <th class=\"blank level0\" ></th>        <th class=\"col_heading level0 col0\" >Accuracy</th>        <th class=\"col_heading level0 col1\" >AUC</th>        <th class=\"col_heading level0 col2\" >Recall</th>        <th class=\"col_heading level0 col3\" >Prec.</th>        <th class=\"col_heading level0 col4\" >F1</th>        <th class=\"col_heading level0 col5\" >Kappa</th>        <th class=\"col_heading level0 col6\" >MCC</th>        <th class=\"col_heading level0 col7\" >PR AUC</th>    </tr>    <tr>        <th class=\"index_name level0\" >Fold</th>        <th class=\"blank\" ></th>        <th class=\"blank\" ></th>        <th class=\"blank\" ></th>        <th class=\"blank\" ></th>        <th class=\"blank\" ></th>        <th class=\"blank\" ></th>        <th class=\"blank\" ></th>        <th class=\"blank\" ></th>    </tr></thead><tbody>\n",
       "                <tr>\n",
       "                        <th id=\"T_4ff0b_level0_row0\" class=\"row_heading level0 row0\" >0</th>\n",
       "                        <td id=\"T_4ff0b_row0_col0\" class=\"data row0 col0\" >0.9908</td>\n",
       "                        <td id=\"T_4ff0b_row0_col1\" class=\"data row0 col1\" >0.5724</td>\n",
       "                        <td id=\"T_4ff0b_row0_col2\" class=\"data row0 col2\" >0.1217</td>\n",
       "                        <td id=\"T_4ff0b_row0_col3\" class=\"data row0 col3\" >0.1854</td>\n",
       "                        <td id=\"T_4ff0b_row0_col4\" class=\"data row0 col4\" >0.1470</td>\n",
       "                        <td id=\"T_4ff0b_row0_col5\" class=\"data row0 col5\" >0.1425</td>\n",
       "                        <td id=\"T_4ff0b_row0_col6\" class=\"data row0 col6\" >0.1457</td>\n",
       "                        <td id=\"T_4ff0b_row0_col7\" class=\"data row0 col7\" >0.0283</td>\n",
       "            </tr>\n",
       "            <tr>\n",
       "                        <th id=\"T_4ff0b_level0_row1\" class=\"row_heading level0 row1\" >1</th>\n",
       "                        <td id=\"T_4ff0b_row1_col0\" class=\"data row1 col0\" >0.9913</td>\n",
       "                        <td id=\"T_4ff0b_row1_col1\" class=\"data row1 col1\" >0.5889</td>\n",
       "                        <td id=\"T_4ff0b_row1_col2\" class=\"data row1 col2\" >0.1587</td>\n",
       "                        <td id=\"T_4ff0b_row1_col3\" class=\"data row1 col3\" >0.2425</td>\n",
       "                        <td id=\"T_4ff0b_row1_col4\" class=\"data row1 col4\" >0.1919</td>\n",
       "                        <td id=\"T_4ff0b_row1_col5\" class=\"data row1 col5\" >0.1877</td>\n",
       "                        <td id=\"T_4ff0b_row1_col6\" class=\"data row1 col6\" >0.1919</td>\n",
       "                        <td id=\"T_4ff0b_row1_col7\" class=\"data row1 col7\" >0.0440</td>\n",
       "            </tr>\n",
       "            <tr>\n",
       "                        <th id=\"T_4ff0b_level0_row2\" class=\"row_heading level0 row2\" >2</th>\n",
       "                        <td id=\"T_4ff0b_row2_col0\" class=\"data row2 col0\" >0.9914</td>\n",
       "                        <td id=\"T_4ff0b_row2_col1\" class=\"data row2 col1\" >0.5705</td>\n",
       "                        <td id=\"T_4ff0b_row2_col2\" class=\"data row2 col2\" >0.1630</td>\n",
       "                        <td id=\"T_4ff0b_row2_col3\" class=\"data row2 col3\" >0.2525</td>\n",
       "                        <td id=\"T_4ff0b_row2_col4\" class=\"data row2 col4\" >0.1982</td>\n",
       "                        <td id=\"T_4ff0b_row2_col5\" class=\"data row2 col5\" >0.1940</td>\n",
       "                        <td id=\"T_4ff0b_row2_col6\" class=\"data row2 col6\" >0.1987</td>\n",
       "                        <td id=\"T_4ff0b_row2_col7\" class=\"data row2 col7\" >0.0466</td>\n",
       "            </tr>\n",
       "            <tr>\n",
       "                        <th id=\"T_4ff0b_level0_row3\" class=\"row_heading level0 row3\" >3</th>\n",
       "                        <td id=\"T_4ff0b_row3_col0\" class=\"data row3 col0\" >0.9912</td>\n",
       "                        <td id=\"T_4ff0b_row3_col1\" class=\"data row3 col1\" >0.5863</td>\n",
       "                        <td id=\"T_4ff0b_row3_col2\" class=\"data row3 col2\" >0.1500</td>\n",
       "                        <td id=\"T_4ff0b_row3_col3\" class=\"data row3 col3\" >0.2315</td>\n",
       "                        <td id=\"T_4ff0b_row3_col4\" class=\"data row3 col4\" >0.1821</td>\n",
       "                        <td id=\"T_4ff0b_row3_col5\" class=\"data row3 col5\" >0.1778</td>\n",
       "                        <td id=\"T_4ff0b_row3_col6\" class=\"data row3 col6\" >0.1821</td>\n",
       "                        <td id=\"T_4ff0b_row3_col7\" class=\"data row3 col7\" >0.0403</td>\n",
       "            </tr>\n",
       "            <tr>\n",
       "                        <th id=\"T_4ff0b_level0_row4\" class=\"row_heading level0 row4\" >4</th>\n",
       "                        <td id=\"T_4ff0b_row4_col0\" class=\"data row4 col0\" >0.9913</td>\n",
       "                        <td id=\"T_4ff0b_row4_col1\" class=\"data row4 col1\" >0.6013</td>\n",
       "                        <td id=\"T_4ff0b_row4_col2\" class=\"data row4 col2\" >0.1630</td>\n",
       "                        <td id=\"T_4ff0b_row4_col3\" class=\"data row4 col3\" >0.2500</td>\n",
       "                        <td id=\"T_4ff0b_row4_col4\" class=\"data row4 col4\" >0.1974</td>\n",
       "                        <td id=\"T_4ff0b_row4_col5\" class=\"data row4 col5\" >0.1932</td>\n",
       "                        <td id=\"T_4ff0b_row4_col6\" class=\"data row4 col6\" >0.1977</td>\n",
       "                        <td id=\"T_4ff0b_row4_col7\" class=\"data row4 col7\" >0.0462</td>\n",
       "            </tr>\n",
       "            <tr>\n",
       "                        <th id=\"T_4ff0b_level0_row5\" class=\"row_heading level0 row5\" >5</th>\n",
       "                        <td id=\"T_4ff0b_row5_col0\" class=\"data row5 col0\" >0.9912</td>\n",
       "                        <td id=\"T_4ff0b_row5_col1\" class=\"data row5 col1\" >0.5906</td>\n",
       "                        <td id=\"T_4ff0b_row5_col2\" class=\"data row5 col2\" >0.1674</td>\n",
       "                        <td id=\"T_4ff0b_row5_col3\" class=\"data row5 col3\" >0.2444</td>\n",
       "                        <td id=\"T_4ff0b_row5_col4\" class=\"data row5 col4\" >0.1987</td>\n",
       "                        <td id=\"T_4ff0b_row5_col5\" class=\"data row5 col5\" >0.1944</td>\n",
       "                        <td id=\"T_4ff0b_row5_col6\" class=\"data row5 col6\" >0.1980</td>\n",
       "                        <td id=\"T_4ff0b_row5_col7\" class=\"data row5 col7\" >0.0464</td>\n",
       "            </tr>\n",
       "            <tr>\n",
       "                        <th id=\"T_4ff0b_level0_row6\" class=\"row_heading level0 row6\" >6</th>\n",
       "                        <td id=\"T_4ff0b_row6_col0\" class=\"data row6 col0\" >0.9913</td>\n",
       "                        <td id=\"T_4ff0b_row6_col1\" class=\"data row6 col1\" >0.5949</td>\n",
       "                        <td id=\"T_4ff0b_row6_col2\" class=\"data row6 col2\" >0.1500</td>\n",
       "                        <td id=\"T_4ff0b_row6_col3\" class=\"data row6 col3\" >0.2379</td>\n",
       "                        <td id=\"T_4ff0b_row6_col4\" class=\"data row6 col4\" >0.1840</td>\n",
       "                        <td id=\"T_4ff0b_row6_col5\" class=\"data row6 col5\" >0.1799</td>\n",
       "                        <td id=\"T_4ff0b_row6_col6\" class=\"data row6 col6\" >0.1847</td>\n",
       "                        <td id=\"T_4ff0b_row6_col7\" class=\"data row6 col7\" >0.0412</td>\n",
       "            </tr>\n",
       "            <tr>\n",
       "                        <th id=\"T_4ff0b_level0_row7\" class=\"row_heading level0 row7\" >7</th>\n",
       "                        <td id=\"T_4ff0b_row7_col0\" class=\"data row7 col0\" >0.9912</td>\n",
       "                        <td id=\"T_4ff0b_row7_col1\" class=\"data row7 col1\" >0.5815</td>\n",
       "                        <td id=\"T_4ff0b_row7_col2\" class=\"data row7 col2\" >0.1283</td>\n",
       "                        <td id=\"T_4ff0b_row7_col3\" class=\"data row7 col3\" >0.2107</td>\n",
       "                        <td id=\"T_4ff0b_row7_col4\" class=\"data row7 col4\" >0.1595</td>\n",
       "                        <td id=\"T_4ff0b_row7_col5\" class=\"data row7 col5\" >0.1553</td>\n",
       "                        <td id=\"T_4ff0b_row7_col6\" class=\"data row7 col6\" >0.1601</td>\n",
       "                        <td id=\"T_4ff0b_row7_col7\" class=\"data row7 col7\" >0.0327</td>\n",
       "            </tr>\n",
       "            <tr>\n",
       "                        <th id=\"T_4ff0b_level0_row8\" class=\"row_heading level0 row8\" >8</th>\n",
       "                        <td id=\"T_4ff0b_row8_col0\" class=\"data row8 col0\" >0.9911</td>\n",
       "                        <td id=\"T_4ff0b_row8_col1\" class=\"data row8 col1\" >0.5999</td>\n",
       "                        <td id=\"T_4ff0b_row8_col2\" class=\"data row8 col2\" >0.1413</td>\n",
       "                        <td id=\"T_4ff0b_row8_col3\" class=\"data row8 col3\" >0.2174</td>\n",
       "                        <td id=\"T_4ff0b_row8_col4\" class=\"data row8 col4\" >0.1713</td>\n",
       "                        <td id=\"T_4ff0b_row8_col5\" class=\"data row8 col5\" >0.1670</td>\n",
       "                        <td id=\"T_4ff0b_row8_col6\" class=\"data row8 col6\" >0.1709</td>\n",
       "                        <td id=\"T_4ff0b_row8_col7\" class=\"data row8 col7\" >0.0363</td>\n",
       "            </tr>\n",
       "            <tr>\n",
       "                        <th id=\"T_4ff0b_level0_row9\" class=\"row_heading level0 row9\" >9</th>\n",
       "                        <td id=\"T_4ff0b_row9_col0\" class=\"data row9 col0\" >0.9915</td>\n",
       "                        <td id=\"T_4ff0b_row9_col1\" class=\"data row9 col1\" >0.5666</td>\n",
       "                        <td id=\"T_4ff0b_row9_col2\" class=\"data row9 col2\" >0.1609</td>\n",
       "                        <td id=\"T_4ff0b_row9_col3\" class=\"data row9 col3\" >0.2578</td>\n",
       "                        <td id=\"T_4ff0b_row9_col4\" class=\"data row9 col4\" >0.1981</td>\n",
       "                        <td id=\"T_4ff0b_row9_col5\" class=\"data row9 col5\" >0.1941</td>\n",
       "                        <td id=\"T_4ff0b_row9_col6\" class=\"data row9 col6\" >0.1996</td>\n",
       "                        <td id=\"T_4ff0b_row9_col7\" class=\"data row9 col7\" >0.0470</td>\n",
       "            </tr>\n",
       "            <tr>\n",
       "                        <th id=\"T_4ff0b_level0_row10\" class=\"row_heading level0 row10\" >Mean</th>\n",
       "                        <td id=\"T_4ff0b_row10_col0\" class=\"data row10 col0\" >0.9912</td>\n",
       "                        <td id=\"T_4ff0b_row10_col1\" class=\"data row10 col1\" >0.5853</td>\n",
       "                        <td id=\"T_4ff0b_row10_col2\" class=\"data row10 col2\" >0.1504</td>\n",
       "                        <td id=\"T_4ff0b_row10_col3\" class=\"data row10 col3\" >0.2330</td>\n",
       "                        <td id=\"T_4ff0b_row10_col4\" class=\"data row10 col4\" >0.1828</td>\n",
       "                        <td id=\"T_4ff0b_row10_col5\" class=\"data row10 col5\" >0.1786</td>\n",
       "                        <td id=\"T_4ff0b_row10_col6\" class=\"data row10 col6\" >0.1830</td>\n",
       "                        <td id=\"T_4ff0b_row10_col7\" class=\"data row10 col7\" >0.0409</td>\n",
       "            </tr>\n",
       "            <tr>\n",
       "                        <th id=\"T_4ff0b_level0_row11\" class=\"row_heading level0 row11\" >Std</th>\n",
       "                        <td id=\"T_4ff0b_row11_col0\" class=\"data row11 col0\" >0.0002</td>\n",
       "                        <td id=\"T_4ff0b_row11_col1\" class=\"data row11 col1\" >0.0116</td>\n",
       "                        <td id=\"T_4ff0b_row11_col2\" class=\"data row11 col2\" >0.0148</td>\n",
       "                        <td id=\"T_4ff0b_row11_col3\" class=\"data row11 col3\" >0.0213</td>\n",
       "                        <td id=\"T_4ff0b_row11_col4\" class=\"data row11 col4\" >0.0173</td>\n",
       "                        <td id=\"T_4ff0b_row11_col5\" class=\"data row11 col5\" >0.0173</td>\n",
       "                        <td id=\"T_4ff0b_row11_col6\" class=\"data row11 col6\" >0.0176</td>\n",
       "                        <td id=\"T_4ff0b_row11_col7\" class=\"data row11 col7\" >0.0062</td>\n",
       "            </tr>\n",
       "    </tbody></table>"
      ],
      "text/plain": [
       "<pandas.io.formats.style.Styler at 0x7fb54c71dd10>"
      ]
     },
     "metadata": {},
     "output_type": "display_data"
    }
   ],
   "source": [
    "lr_model = create_model('lr',fold=10)\n",
    "tuned_lr = tune_model(lr_model, optimize = 'prauc',fold=10)   "
   ]
  },
  {
   "cell_type": "code",
   "execution_count": 40,
   "id": "87d39961-0fbe-4a95-97c5-f465286b85eb",
   "metadata": {},
   "outputs": [
    {
     "data": {
      "text/html": [
       "<style  type=\"text/css\" >\n",
       "</style><table id=\"T_6e3ab_\" ><thead>    <tr>        <th class=\"blank level0\" ></th>        <th class=\"col_heading level0 col0\" >Model</th>        <th class=\"col_heading level0 col1\" >Accuracy</th>        <th class=\"col_heading level0 col2\" >AUC</th>        <th class=\"col_heading level0 col3\" >Recall</th>        <th class=\"col_heading level0 col4\" >Prec.</th>        <th class=\"col_heading level0 col5\" >F1</th>        <th class=\"col_heading level0 col6\" >Kappa</th>        <th class=\"col_heading level0 col7\" >MCC</th>        <th class=\"col_heading level0 col8\" >PR AUC</th>    </tr></thead><tbody>\n",
       "                <tr>\n",
       "                        <th id=\"T_6e3ab_level0_row0\" class=\"row_heading level0 row0\" >0</th>\n",
       "                        <td id=\"T_6e3ab_row0_col0\" class=\"data row0 col0\" >Logistic Regression</td>\n",
       "                        <td id=\"T_6e3ab_row0_col1\" class=\"data row0 col1\" >0.9956</td>\n",
       "                        <td id=\"T_6e3ab_row0_col2\" class=\"data row0 col2\" >0.6003</td>\n",
       "                        <td id=\"T_6e3ab_row0_col3\" class=\"data row0 col3\" >0.1491</td>\n",
       "                        <td id=\"T_6e3ab_row0_col4\" class=\"data row0 col4\" >0.0555</td>\n",
       "                        <td id=\"T_6e3ab_row0_col5\" class=\"data row0 col5\" >0.0809</td>\n",
       "                        <td id=\"T_6e3ab_row0_col6\" class=\"data row0 col6\" >0.0792</td>\n",
       "                        <td id=\"T_6e3ab_row0_col7\" class=\"data row0 col7\" >0.0891</td>\n",
       "                        <td id=\"T_6e3ab_row0_col8\" class=\"data row0 col8\" >0.0094</td>\n",
       "            </tr>\n",
       "    </tbody></table>"
      ],
      "text/plain": [
       "<pandas.io.formats.style.Styler at 0x7fb493dab310>"
      ]
     },
     "metadata": {},
     "output_type": "display_data"
    }
   ],
   "source": [
    "preds_lr = predict_model(tuned_lr, data = X_test, raw_score=True)"
   ]
  },
  {
   "cell_type": "code",
   "execution_count": 42,
   "id": "a71c131a-fb83-4fcf-94c3-376565e93c04",
   "metadata": {},
   "outputs": [
    {
     "data": {
      "text/plain": [
       "42509612743.89531"
      ]
     },
     "execution_count": 42,
     "metadata": {},
     "output_type": "execute_result"
    }
   ],
   "source": [
    "cost_function_amount(preds_lr.isFraud.values, preds_lr.Score_1.values, preds_lr.amount.values)"
   ]
  },
  {
   "cell_type": "code",
   "execution_count": null,
   "id": "b62fe032-83f2-4c1d-a074-670aa2ac3429",
   "metadata": {},
   "outputs": [],
   "source": []
  },
  {
   "cell_type": "markdown",
   "id": "923ec3b4-1be2-43bc-9917-0c63479d2a27",
   "metadata": {},
   "source": [
    "El mejor modelo que es xgboost y las ganancias son mucho mejores que lineal regresión y lightgbm"
   ]
  },
  {
   "cell_type": "code",
   "execution_count": null,
   "id": "f8a6e483-d5f9-4a50-b569-3908a48df577",
   "metadata": {},
   "outputs": [],
   "source": []
  }
 ],
 "metadata": {
  "kernelspec": {
   "display_name": "Python 3 (ipykernel)",
   "language": "python",
   "name": "python3"
  },
  "language_info": {
   "codemirror_mode": {
    "name": "ipython",
    "version": 3
   },
   "file_extension": ".py",
   "mimetype": "text/x-python",
   "name": "python",
   "nbconvert_exporter": "python",
   "pygments_lexer": "ipython3",
   "version": "3.7.13"
  }
 },
 "nbformat": 4,
 "nbformat_minor": 5
}
